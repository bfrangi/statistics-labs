{
 "cells": [
  {
   "cell_type": "markdown",
   "metadata": {
    "id": "ZGROpmNUMa2O"
   },
   "source": [
    "# Probability and Data Analysis\n",
    "## Computers Lab 1: Descriptive Statistics: Univariate and Bivariate Data\n",
    "\n",
    "### Date: 16/02/2021"
   ]
  },
  {
   "cell_type": "markdown",
   "metadata": {
    "id": "87SLqAIBMa2T"
   },
   "source": [
    "## Assignment"
   ]
  },
  {
   "cell_type": "markdown",
   "metadata": {
    "id": "hVXAT_ZaMa2T"
   },
   "source": [
    "# The Dataset"
   ]
  },
  {
   "cell_type": "code",
   "execution_count": 1,
   "metadata": {
    "id": "AyKzyDgNMa2T"
   },
   "outputs": [],
   "source": [
    "import numpy as np\n",
    "import pandas as pd"
   ]
  },
  {
   "cell_type": "code",
   "execution_count": 2,
   "metadata": {
    "colab": {
     "base_uri": "https://localhost:8080/",
     "height": 452
    },
    "id": "_MdVMRi1QdTq",
    "outputId": "c087fcce-3d44-4798-8227-c60da79d85f7"
   },
   "outputs": [
    {
     "data": {
      "text/html": [
       "<div>\n",
       "<style scoped>\n",
       "    .dataframe tbody tr th:only-of-type {\n",
       "        vertical-align: middle;\n",
       "    }\n",
       "\n",
       "    .dataframe tbody tr th {\n",
       "        vertical-align: top;\n",
       "    }\n",
       "\n",
       "    .dataframe thead th {\n",
       "        text-align: right;\n",
       "    }\n",
       "</style>\n",
       "<table border=\"1\" class=\"dataframe\">\n",
       "  <thead>\n",
       "    <tr style=\"text-align: right;\">\n",
       "      <th></th>\n",
       "      <th>Column1</th>\n",
       "      <th>title</th>\n",
       "      <th>artist</th>\n",
       "      <th>top genre</th>\n",
       "      <th>year</th>\n",
       "      <th>bpm</th>\n",
       "      <th>nrgy</th>\n",
       "      <th>dnce</th>\n",
       "      <th>dB</th>\n",
       "      <th>live</th>\n",
       "      <th>val</th>\n",
       "      <th>dur</th>\n",
       "      <th>acous</th>\n",
       "      <th>spch</th>\n",
       "      <th>pop</th>\n",
       "    </tr>\n",
       "  </thead>\n",
       "  <tbody>\n",
       "    <tr>\n",
       "      <th>0</th>\n",
       "      <td>1</td>\n",
       "      <td>Hey, Soul Sister</td>\n",
       "      <td>Train</td>\n",
       "      <td>neo mellow</td>\n",
       "      <td>2010</td>\n",
       "      <td>97</td>\n",
       "      <td>89</td>\n",
       "      <td>67</td>\n",
       "      <td>-4</td>\n",
       "      <td>8</td>\n",
       "      <td>80</td>\n",
       "      <td>217</td>\n",
       "      <td>19</td>\n",
       "      <td>4</td>\n",
       "      <td>83</td>\n",
       "    </tr>\n",
       "    <tr>\n",
       "      <th>1</th>\n",
       "      <td>2</td>\n",
       "      <td>Love The Way You Lie</td>\n",
       "      <td>Eminem</td>\n",
       "      <td>detroit hip hop</td>\n",
       "      <td>2010</td>\n",
       "      <td>87</td>\n",
       "      <td>93</td>\n",
       "      <td>75</td>\n",
       "      <td>-5</td>\n",
       "      <td>52</td>\n",
       "      <td>64</td>\n",
       "      <td>263</td>\n",
       "      <td>24</td>\n",
       "      <td>23</td>\n",
       "      <td>82</td>\n",
       "    </tr>\n",
       "    <tr>\n",
       "      <th>2</th>\n",
       "      <td>3</td>\n",
       "      <td>TiK ToK</td>\n",
       "      <td>Kesha</td>\n",
       "      <td>dance pop</td>\n",
       "      <td>2010</td>\n",
       "      <td>120</td>\n",
       "      <td>84</td>\n",
       "      <td>76</td>\n",
       "      <td>-3</td>\n",
       "      <td>29</td>\n",
       "      <td>71</td>\n",
       "      <td>200</td>\n",
       "      <td>10</td>\n",
       "      <td>14</td>\n",
       "      <td>80</td>\n",
       "    </tr>\n",
       "    <tr>\n",
       "      <th>3</th>\n",
       "      <td>4</td>\n",
       "      <td>Bad Romance</td>\n",
       "      <td>Lady Gaga</td>\n",
       "      <td>dance pop</td>\n",
       "      <td>2010</td>\n",
       "      <td>119</td>\n",
       "      <td>92</td>\n",
       "      <td>70</td>\n",
       "      <td>-4</td>\n",
       "      <td>8</td>\n",
       "      <td>71</td>\n",
       "      <td>295</td>\n",
       "      <td>0</td>\n",
       "      <td>4</td>\n",
       "      <td>79</td>\n",
       "    </tr>\n",
       "    <tr>\n",
       "      <th>4</th>\n",
       "      <td>5</td>\n",
       "      <td>Just the Way You Are</td>\n",
       "      <td>Bruno Mars</td>\n",
       "      <td>pop</td>\n",
       "      <td>2010</td>\n",
       "      <td>109</td>\n",
       "      <td>84</td>\n",
       "      <td>64</td>\n",
       "      <td>-5</td>\n",
       "      <td>9</td>\n",
       "      <td>43</td>\n",
       "      <td>221</td>\n",
       "      <td>2</td>\n",
       "      <td>4</td>\n",
       "      <td>78</td>\n",
       "    </tr>\n",
       "    <tr>\n",
       "      <th>...</th>\n",
       "      <td>...</td>\n",
       "      <td>...</td>\n",
       "      <td>...</td>\n",
       "      <td>...</td>\n",
       "      <td>...</td>\n",
       "      <td>...</td>\n",
       "      <td>...</td>\n",
       "      <td>...</td>\n",
       "      <td>...</td>\n",
       "      <td>...</td>\n",
       "      <td>...</td>\n",
       "      <td>...</td>\n",
       "      <td>...</td>\n",
       "      <td>...</td>\n",
       "      <td>...</td>\n",
       "    </tr>\n",
       "    <tr>\n",
       "      <th>598</th>\n",
       "      <td>599</td>\n",
       "      <td>Find U Again (feat. Camila Cabello)</td>\n",
       "      <td>Mark Ronson</td>\n",
       "      <td>dance pop</td>\n",
       "      <td>2019</td>\n",
       "      <td>104</td>\n",
       "      <td>66</td>\n",
       "      <td>61</td>\n",
       "      <td>-7</td>\n",
       "      <td>20</td>\n",
       "      <td>16</td>\n",
       "      <td>176</td>\n",
       "      <td>1</td>\n",
       "      <td>3</td>\n",
       "      <td>75</td>\n",
       "    </tr>\n",
       "    <tr>\n",
       "      <th>599</th>\n",
       "      <td>600</td>\n",
       "      <td>Cross Me (feat. Chance the Rapper &amp; PnB Rock)</td>\n",
       "      <td>Ed Sheeran</td>\n",
       "      <td>pop</td>\n",
       "      <td>2019</td>\n",
       "      <td>95</td>\n",
       "      <td>79</td>\n",
       "      <td>75</td>\n",
       "      <td>-6</td>\n",
       "      <td>7</td>\n",
       "      <td>61</td>\n",
       "      <td>206</td>\n",
       "      <td>21</td>\n",
       "      <td>12</td>\n",
       "      <td>75</td>\n",
       "    </tr>\n",
       "    <tr>\n",
       "      <th>600</th>\n",
       "      <td>601</td>\n",
       "      <td>No Brainer (feat. Justin Bieber, Chance the Ra...</td>\n",
       "      <td>DJ Khaled</td>\n",
       "      <td>dance pop</td>\n",
       "      <td>2019</td>\n",
       "      <td>136</td>\n",
       "      <td>76</td>\n",
       "      <td>53</td>\n",
       "      <td>-5</td>\n",
       "      <td>9</td>\n",
       "      <td>65</td>\n",
       "      <td>260</td>\n",
       "      <td>7</td>\n",
       "      <td>34</td>\n",
       "      <td>70</td>\n",
       "    </tr>\n",
       "    <tr>\n",
       "      <th>601</th>\n",
       "      <td>602</td>\n",
       "      <td>Nothing Breaks Like a Heart (feat. Miley Cyrus)</td>\n",
       "      <td>Mark Ronson</td>\n",
       "      <td>dance pop</td>\n",
       "      <td>2019</td>\n",
       "      <td>114</td>\n",
       "      <td>79</td>\n",
       "      <td>60</td>\n",
       "      <td>-6</td>\n",
       "      <td>42</td>\n",
       "      <td>24</td>\n",
       "      <td>217</td>\n",
       "      <td>1</td>\n",
       "      <td>7</td>\n",
       "      <td>69</td>\n",
       "    </tr>\n",
       "    <tr>\n",
       "      <th>602</th>\n",
       "      <td>603</td>\n",
       "      <td>Kills You Slowly</td>\n",
       "      <td>The Chainsmokers</td>\n",
       "      <td>electropop</td>\n",
       "      <td>2019</td>\n",
       "      <td>150</td>\n",
       "      <td>44</td>\n",
       "      <td>70</td>\n",
       "      <td>-9</td>\n",
       "      <td>13</td>\n",
       "      <td>23</td>\n",
       "      <td>213</td>\n",
       "      <td>6</td>\n",
       "      <td>6</td>\n",
       "      <td>67</td>\n",
       "    </tr>\n",
       "  </tbody>\n",
       "</table>\n",
       "<p>603 rows × 15 columns</p>\n",
       "</div>"
      ],
      "text/plain": [
       "     Column1                                              title  \\\n",
       "0          1                                   Hey, Soul Sister   \n",
       "1          2                               Love The Way You Lie   \n",
       "2          3                                            TiK ToK   \n",
       "3          4                                        Bad Romance   \n",
       "4          5                               Just the Way You Are   \n",
       "..       ...                                                ...   \n",
       "598      599                Find U Again (feat. Camila Cabello)   \n",
       "599      600      Cross Me (feat. Chance the Rapper & PnB Rock)   \n",
       "600      601  No Brainer (feat. Justin Bieber, Chance the Ra...   \n",
       "601      602    Nothing Breaks Like a Heart (feat. Miley Cyrus)   \n",
       "602      603                                   Kills You Slowly   \n",
       "\n",
       "               artist        top genre  year  bpm  nrgy  dnce  dB  live  val  \\\n",
       "0               Train       neo mellow  2010   97    89    67  -4     8   80   \n",
       "1              Eminem  detroit hip hop  2010   87    93    75  -5    52   64   \n",
       "2               Kesha        dance pop  2010  120    84    76  -3    29   71   \n",
       "3           Lady Gaga        dance pop  2010  119    92    70  -4     8   71   \n",
       "4          Bruno Mars              pop  2010  109    84    64  -5     9   43   \n",
       "..                ...              ...   ...  ...   ...   ...  ..   ...  ...   \n",
       "598       Mark Ronson        dance pop  2019  104    66    61  -7    20   16   \n",
       "599        Ed Sheeran              pop  2019   95    79    75  -6     7   61   \n",
       "600         DJ Khaled        dance pop  2019  136    76    53  -5     9   65   \n",
       "601       Mark Ronson        dance pop  2019  114    79    60  -6    42   24   \n",
       "602  The Chainsmokers       electropop  2019  150    44    70  -9    13   23   \n",
       "\n",
       "     dur  acous  spch  pop  \n",
       "0    217     19     4   83  \n",
       "1    263     24    23   82  \n",
       "2    200     10    14   80  \n",
       "3    295      0     4   79  \n",
       "4    221      2     4   78  \n",
       "..   ...    ...   ...  ...  \n",
       "598  176      1     3   75  \n",
       "599  206     21    12   75  \n",
       "600  260      7    34   70  \n",
       "601  217      1     7   69  \n",
       "602  213      6     6   67  \n",
       "\n",
       "[603 rows x 15 columns]"
      ]
     },
     "execution_count": 2,
     "metadata": {},
     "output_type": "execute_result"
    }
   ],
   "source": [
    "data = pd.read_csv(\"topsongs.csv\", delimiter=\";\")\n",
    "data"
   ]
  },
  {
   "cell_type": "markdown",
   "metadata": {
    "id": "I0kl2Qa6Ma2U"
   },
   "source": [
    "# QUESTION 1: \n",
    "### Compute the mean, median and variance for the variables *spch*, *acous* and *dur*. Compare their level of variability.\n",
    "\n",
    "\n"
   ]
  },
  {
   "cell_type": "markdown",
   "metadata": {
    "id": "y_F1YqCvIMqW"
   },
   "source": [
    "First we will look at all the data asked for the three variables rounded up to two decimals, and then we will compare their variability:"
   ]
  },
  {
   "cell_type": "code",
   "execution_count": 3,
   "metadata": {},
   "outputs": [
    {
     "data": {
      "text/html": [
       "<div>\n",
       "<style scoped>\n",
       "    .dataframe tbody tr th:only-of-type {\n",
       "        vertical-align: middle;\n",
       "    }\n",
       "\n",
       "    .dataframe tbody tr th {\n",
       "        vertical-align: top;\n",
       "    }\n",
       "\n",
       "    .dataframe thead th {\n",
       "        text-align: right;\n",
       "    }\n",
       "</style>\n",
       "<table border=\"1\" class=\"dataframe\">\n",
       "  <thead>\n",
       "    <tr style=\"text-align: right;\">\n",
       "      <th></th>\n",
       "      <th>C. Tendency</th>\n",
       "      <th>SPCH</th>\n",
       "      <th>DUR</th>\n",
       "      <th>ACOUS</th>\n",
       "    </tr>\n",
       "  </thead>\n",
       "  <tbody>\n",
       "    <tr>\n",
       "      <th>0</th>\n",
       "      <td>Mean</td>\n",
       "      <td>8.36</td>\n",
       "      <td>224.67</td>\n",
       "      <td>14.33</td>\n",
       "    </tr>\n",
       "    <tr>\n",
       "      <th>1</th>\n",
       "      <td>Median</td>\n",
       "      <td>5.00</td>\n",
       "      <td>221.00</td>\n",
       "      <td>6.00</td>\n",
       "    </tr>\n",
       "    <tr>\n",
       "      <th>2</th>\n",
       "      <td>Variance</td>\n",
       "      <td>56.00</td>\n",
       "      <td>1164.86</td>\n",
       "      <td>431.23</td>\n",
       "    </tr>\n",
       "  </tbody>\n",
       "</table>\n",
       "</div>"
      ],
      "text/plain": [
       "  C. Tendency   SPCH      DUR   ACOUS\n",
       "0        Mean   8.36   224.67   14.33\n",
       "1      Median   5.00   221.00    6.00\n",
       "2    Variance  56.00  1164.86  431.23"
      ]
     },
     "execution_count": 3,
     "metadata": {},
     "output_type": "execute_result"
    }
   ],
   "source": [
    "spch = data['spch']\n",
    "dur = data['dur']\n",
    "acous = data['acous']\n",
    "info = {\n",
    "    'C. Tendency': [\"Mean\", \"Median\", \"Variance\"],\n",
    "    'SPCH': [round(spch.mean(), 2), round(spch.median(), 2), round(spch.var(), 2)],\n",
    "    'DUR': [round(dur.mean(), 2), round(dur.median(), 2), round(dur.var(), 2)],\n",
    "    'ACOUS': [round(acous.mean(), 2), round(acous.median(), 2), round(acous.var(), 2)]\n",
    "}\n",
    "\n",
    "df = pd.DataFrame(data=info)\n",
    "df"
   ]
  },
  {
   "cell_type": "markdown",
   "metadata": {
    "id": "LgAV1ybHHE7s"
   },
   "source": [
    "We can see that the variance of the variables is quite large in all cases, if we compare it to the magnitude of the mean. For SPCH, the variance is 56.0, meaning that the average square distance from all points to the mean is 56.0. Comparing this to the mean value of SPCH (8.36), we can see that the points are *very* spread out far from the mean value. Therefore, the variance is high. The same applies to both of the other two cases.\n",
    "\n",
    "Comparing between variables, the highest variance occurs in DUR and the lowest in SPCH. However, this may be a misleading comparison, because the scale of the variables is clearly different, as we can see from the mean. Therefore, to have a more clear comparison, we can divide the variance by the mean to see which variable presents a higher variance/mean quotient (coefficient of variation):"
   ]
  },
  {
   "cell_type": "code",
   "execution_count": 4,
   "metadata": {
    "colab": {
     "base_uri": "https://localhost:8080/"
    },
    "id": "GjXAr0mLJQkw",
    "outputId": "f4f5a948-306b-419b-e341-6c7cb4118ef7"
   },
   "outputs": [
    {
     "name": "stdout",
     "output_type": "stream",
     "text": [
      "SPCH: \n",
      " Coefficient of variation: 6.7\n",
      "DUR: \n",
      " Coefficient of variation: 5.18\n",
      "ACOUS: \n",
      " Coefficient of variation: 30.1\n"
     ]
    }
   ],
   "source": [
    "print(\"SPCH: \\n Coefficient of variation: \" + str(round(data['spch'].var()/data['spch'].mean(), 2)))\n",
    "print(\"DUR: \\n Coefficient of variation: \" + str(round(data['dur'].var()/data['dur'].mean(), 2)))\n",
    "print(\"ACOUS: \\n Coefficient of variation: \" + str(round(data['acous'].var()/data['acous'].mean(), 2)))"
   ]
  },
  {
   "cell_type": "markdown",
   "metadata": {
    "id": "rQSQ6i9nKLSi"
   },
   "source": [
    "Clearly, ACOUS has the largest variance in relation to its mean, and DUR has the smallest variance in relation to its mean. So, the variance and the coefficient of variation lead to very different conclusions."
   ]
  },
  {
   "cell_type": "markdown",
   "metadata": {
    "id": "0T5mKzIDTcJf"
   },
   "source": [
    "# QUESTION 2:\n",
    "## Which songs presents the highest and lowest value of *val*?"
   ]
  },
  {
   "cell_type": "markdown",
   "metadata": {
    "id": "AgoOD7QOUciE"
   },
   "source": [
    "The song with a maximum *val* is, and has a value of:"
   ]
  },
  {
   "cell_type": "code",
   "execution_count": 5,
   "metadata": {
    "colab": {
     "base_uri": "https://localhost:8080/"
    },
    "id": "Q1zTP-lcTrK3",
    "outputId": "d4a90fb6-1762-4ca5-a29e-7ae6fbbaed79"
   },
   "outputs": [
    {
     "name": "stdout",
     "output_type": "stream",
     "text": [
      "The song with the highest val, of 98, is \"Mmm Yeah (feat. Pitbull)\"\n"
     ]
    }
   ],
   "source": [
    "max_val = data['val'].max()\n",
    "max_val_song = data.set_index('val').at[max_val, 'title']\n",
    "\n",
    "print(\"The song with the highest val, of \" + str(max_val) + \", is\"+ \" \\\"\" + max_val_song + \"\\\"\")\n",
    "\n"
   ]
  },
  {
   "cell_type": "markdown",
   "metadata": {
    "id": "_ynrsNfnZB3h"
   },
   "source": [
    "The song with a minimum *val* is, and has a value of:"
   ]
  },
  {
   "cell_type": "code",
   "execution_count": 6,
   "metadata": {
    "colab": {
     "base_uri": "https://localhost:8080/"
    },
    "id": "kO3x9MjoZP4-",
    "outputId": "2656a8cb-26cb-41ff-8416-55e1119844a4"
   },
   "outputs": [
    {
     "name": "stdout",
     "output_type": "stream",
     "text": [
      "The song with the lowest val, of 0, is \"Million Years Ago\"\n"
     ]
    }
   ],
   "source": [
    "min_val = data['val'].min()\n",
    "min_val_song = data.set_index('val').at[min_val, 'title']\n",
    "\n",
    "print(\"The song with the lowest val, of \" + str(min_val) + \", is\"+ \" \\\"\" + min_val_song + \"\\\"\")"
   ]
  },
  {
   "cell_type": "markdown",
   "metadata": {
    "id": "O9hw-T4iYh4P"
   },
   "source": [
    "# QUESTION 3\n",
    "## Which percentage of songs exhibit more than 0.9 in *dnce*? Which value of *dnce* is exceeded by 35% of the songs?\n"
   ]
  },
  {
   "cell_type": "markdown",
   "metadata": {
    "id": "KzvLr-Aaispl"
   },
   "source": [
    "Percentage of songs that exhibited more than 0.9 in dnce rounded to two decimal places:"
   ]
  },
  {
   "cell_type": "code",
   "execution_count": 7,
   "metadata": {
    "colab": {
     "base_uri": "https://localhost:8080/"
    },
    "id": "0B-0423FYksZ",
    "outputId": "b18c1d39-2c26-4e0a-9f69-72fca7b0c8ac"
   },
   "outputs": [
    {
     "name": "stdout",
     "output_type": "stream",
     "text": [
      "99.83% of the songs have a dnce value larger than 0.9\n"
     ]
    }
   ],
   "source": [
    "#condition = to exhibit more than 0.9 in dnce\n",
    "\n",
    "songs_condition = data.drop(data[data['dnce']<=0.9].index) \n",
    "\n",
    "p = 100*songs_condition['title'].count()/data['title'].count()\n",
    "\n",
    "print(str(round(p, 2)) + \"% of the songs have a dnce value larger than 0.9\")\n",
    "\n"
   ]
  },
  {
   "cell_type": "markdown",
   "metadata": {
    "id": "OBFFI07SixsR"
   },
   "source": [
    "Value of dnce surpassed by 35% of the songs:"
   ]
  },
  {
   "cell_type": "code",
   "execution_count": 8,
   "metadata": {
    "colab": {
     "base_uri": "https://localhost:8080/"
    },
    "id": "WpiWT6zGeRpn",
    "outputId": "13e7640a-fe54-4090-b3fc-25c7c26d63a6"
   },
   "outputs": [
    {
     "name": "stdout",
     "output_type": "stream",
     "text": [
      "70.0 is the value of dnce exceeded by 35% of the songs\n"
     ]
    }
   ],
   "source": [
    "print(str(data['dnce'].quantile(1-.35)) + \" is the value of dnce exceeded by 35% of the songs\")"
   ]
  },
  {
   "cell_type": "markdown",
   "metadata": {
    "id": "SYmAVw0iaTSs"
   },
   "source": [
    "# QUESTION 4\n",
    "## Obtain a box plot for the variable *dur*. Are there any outliers? If yes, which are these songs?\n"
   ]
  },
  {
   "cell_type": "markdown",
   "metadata": {
    "id": "cd7H3o0roYvK"
   },
   "source": [
    "Down below we can see a box plot of the variable *dur*:"
   ]
  },
  {
   "cell_type": "code",
   "execution_count": 9,
   "metadata": {
    "colab": {
     "base_uri": "https://localhost:8080/",
     "height": 265
    },
    "id": "DPzZL1CnZO_v",
    "outputId": "bfd3da56-676a-43ca-b7c4-4258edf94856"
   },
   "outputs": [
    {
     "data": {
      "image/png": "[encoded data removed]",
      "text/plain": [
       "<Figure size 432x288 with 1 Axes>"
      ]
     },
     "metadata": {
      "needs_background": "light"
     },
     "output_type": "display_data"
    }
   ],
   "source": [
    "import matplotlib.pyplot as plt\n",
    "%matplotlib inline\n",
    "data['dur'].plot.box()\n",
    "plt.show()"
   ]
  },
  {
   "cell_type": "markdown",
   "metadata": {
    "id": "tnW7Dn30ohB8"
   },
   "source": [
    "Next, we will see if there are any outliers (although we can already see from the boxplot that there clearly are). First we will analyze the upper outliers and then the lower ones:"
   ]
  },
  {
   "cell_type": "code",
   "execution_count": 10,
   "metadata": {
    "colab": {
     "base_uri": "https://localhost:8080/",
     "height": 647
    },
    "id": "qBb72hqmajeZ",
    "outputId": "4de81705-0adb-48de-9464-74c5c6547cac"
   },
   "outputs": [
    {
     "name": "stdout",
     "output_type": "stream",
     "text": [
      "The boundary for the upper outliers is: 295.75, and in total there are 18, which are shown in the following table:\n"
     ]
    },
    {
     "data": {
      "text/html": [
       "<div>\n",
       "<style scoped>\n",
       "    .dataframe tbody tr th:only-of-type {\n",
       "        vertical-align: middle;\n",
       "    }\n",
       "\n",
       "    .dataframe tbody tr th {\n",
       "        vertical-align: top;\n",
       "    }\n",
       "\n",
       "    .dataframe thead th {\n",
       "        text-align: right;\n",
       "    }\n",
       "</style>\n",
       "<table border=\"1\" class=\"dataframe\">\n",
       "  <thead>\n",
       "    <tr style=\"text-align: right;\">\n",
       "      <th></th>\n",
       "      <th>Column1</th>\n",
       "      <th>title</th>\n",
       "      <th>artist</th>\n",
       "      <th>top genre</th>\n",
       "      <th>year</th>\n",
       "      <th>bpm</th>\n",
       "      <th>nrgy</th>\n",
       "      <th>dnce</th>\n",
       "      <th>dB</th>\n",
       "      <th>live</th>\n",
       "      <th>val</th>\n",
       "      <th>dur</th>\n",
       "      <th>acous</th>\n",
       "      <th>spch</th>\n",
       "      <th>pop</th>\n",
       "    </tr>\n",
       "  </thead>\n",
       "  <tbody>\n",
       "    <tr>\n",
       "      <th>17</th>\n",
       "      <td>18</td>\n",
       "      <td>The Time (Dirty Bit)</td>\n",
       "      <td>The Black Eyed Peas</td>\n",
       "      <td>dance pop</td>\n",
       "      <td>2010</td>\n",
       "      <td>128</td>\n",
       "      <td>81</td>\n",
       "      <td>82</td>\n",
       "      <td>-8</td>\n",
       "      <td>60</td>\n",
       "      <td>44</td>\n",
       "      <td>308</td>\n",
       "      <td>7</td>\n",
       "      <td>7</td>\n",
       "      <td>70</td>\n",
       "    </tr>\n",
       "    <tr>\n",
       "      <th>48</th>\n",
       "      <td>49</td>\n",
       "      <td>Castle Walls (feat. Christina Aguilera)</td>\n",
       "      <td>T.I.</td>\n",
       "      <td>atl hip hop</td>\n",
       "      <td>2010</td>\n",
       "      <td>80</td>\n",
       "      <td>86</td>\n",
       "      <td>45</td>\n",
       "      <td>-5</td>\n",
       "      <td>26</td>\n",
       "      <td>58</td>\n",
       "      <td>329</td>\n",
       "      <td>7</td>\n",
       "      <td>39</td>\n",
       "      <td>49</td>\n",
       "    </tr>\n",
       "    <tr>\n",
       "      <th>63</th>\n",
       "      <td>64</td>\n",
       "      <td>Monster</td>\n",
       "      <td>Kanye West</td>\n",
       "      <td>chicago rap</td>\n",
       "      <td>2011</td>\n",
       "      <td>125</td>\n",
       "      <td>69</td>\n",
       "      <td>63</td>\n",
       "      <td>-6</td>\n",
       "      <td>67</td>\n",
       "      <td>10</td>\n",
       "      <td>379</td>\n",
       "      <td>0</td>\n",
       "      <td>20</td>\n",
       "      <td>73</td>\n",
       "    </tr>\n",
       "    <tr>\n",
       "      <th>76</th>\n",
       "      <td>77</td>\n",
       "      <td>The Edge Of Glory</td>\n",
       "      <td>Lady Gaga</td>\n",
       "      <td>dance pop</td>\n",
       "      <td>2011</td>\n",
       "      <td>128</td>\n",
       "      <td>77</td>\n",
       "      <td>58</td>\n",
       "      <td>-6</td>\n",
       "      <td>11</td>\n",
       "      <td>36</td>\n",
       "      <td>321</td>\n",
       "      <td>0</td>\n",
       "      <td>4</td>\n",
       "      <td>67</td>\n",
       "    </tr>\n",
       "    <tr>\n",
       "      <th>81</th>\n",
       "      <td>82</td>\n",
       "      <td>You And I</td>\n",
       "      <td>Lady Gaga</td>\n",
       "      <td>dance pop</td>\n",
       "      <td>2011</td>\n",
       "      <td>127</td>\n",
       "      <td>70</td>\n",
       "      <td>52</td>\n",
       "      <td>-5</td>\n",
       "      <td>9</td>\n",
       "      <td>52</td>\n",
       "      <td>307</td>\n",
       "      <td>9</td>\n",
       "      <td>5</td>\n",
       "      <td>64</td>\n",
       "    </tr>\n",
       "    <tr>\n",
       "      <th>95</th>\n",
       "      <td>96</td>\n",
       "      <td>Castle Walls (feat. Christina Aguilera)</td>\n",
       "      <td>T.I.</td>\n",
       "      <td>atl hip hop</td>\n",
       "      <td>2011</td>\n",
       "      <td>80</td>\n",
       "      <td>86</td>\n",
       "      <td>45</td>\n",
       "      <td>-5</td>\n",
       "      <td>26</td>\n",
       "      <td>58</td>\n",
       "      <td>329</td>\n",
       "      <td>7</td>\n",
       "      <td>39</td>\n",
       "      <td>49</td>\n",
       "    </tr>\n",
       "    <tr>\n",
       "      <th>162</th>\n",
       "      <td>163</td>\n",
       "      <td>Lose Yourself to Dance</td>\n",
       "      <td>Daft Punk</td>\n",
       "      <td>electro</td>\n",
       "      <td>2013</td>\n",
       "      <td>100</td>\n",
       "      <td>66</td>\n",
       "      <td>83</td>\n",
       "      <td>-8</td>\n",
       "      <td>8</td>\n",
       "      <td>67</td>\n",
       "      <td>354</td>\n",
       "      <td>8</td>\n",
       "      <td>6</td>\n",
       "      <td>72</td>\n",
       "    </tr>\n",
       "    <tr>\n",
       "      <th>172</th>\n",
       "      <td>173</td>\n",
       "      <td>Suit &amp; Tie</td>\n",
       "      <td>Justin Timberlake</td>\n",
       "      <td>dance pop</td>\n",
       "      <td>2013</td>\n",
       "      <td>102</td>\n",
       "      <td>60</td>\n",
       "      <td>80</td>\n",
       "      <td>-4</td>\n",
       "      <td>16</td>\n",
       "      <td>36</td>\n",
       "      <td>326</td>\n",
       "      <td>10</td>\n",
       "      <td>22</td>\n",
       "      <td>68</td>\n",
       "    </tr>\n",
       "    <tr>\n",
       "      <th>188</th>\n",
       "      <td>189</td>\n",
       "      <td>TKO</td>\n",
       "      <td>Justin Timberlake</td>\n",
       "      <td>dance pop</td>\n",
       "      <td>2013</td>\n",
       "      <td>138</td>\n",
       "      <td>68</td>\n",
       "      <td>61</td>\n",
       "      <td>-7</td>\n",
       "      <td>43</td>\n",
       "      <td>49</td>\n",
       "      <td>424</td>\n",
       "      <td>1</td>\n",
       "      <td>24</td>\n",
       "      <td>58</td>\n",
       "    </tr>\n",
       "    <tr>\n",
       "      <th>194</th>\n",
       "      <td>195</td>\n",
       "      <td>Take Back the Night</td>\n",
       "      <td>Justin Timberlake</td>\n",
       "      <td>dance pop</td>\n",
       "      <td>2013</td>\n",
       "      <td>107</td>\n",
       "      <td>66</td>\n",
       "      <td>59</td>\n",
       "      <td>-5</td>\n",
       "      <td>64</td>\n",
       "      <td>33</td>\n",
       "      <td>353</td>\n",
       "      <td>4</td>\n",
       "      <td>16</td>\n",
       "      <td>54</td>\n",
       "    </tr>\n",
       "    <tr>\n",
       "      <th>241</th>\n",
       "      <td>242</td>\n",
       "      <td>Partition</td>\n",
       "      <td>Beyoncé</td>\n",
       "      <td>dance pop</td>\n",
       "      <td>2014</td>\n",
       "      <td>186</td>\n",
       "      <td>44</td>\n",
       "      <td>41</td>\n",
       "      <td>-12</td>\n",
       "      <td>31</td>\n",
       "      <td>17</td>\n",
       "      <td>319</td>\n",
       "      <td>3</td>\n",
       "      <td>29</td>\n",
       "      <td>65</td>\n",
       "    </tr>\n",
       "    <tr>\n",
       "      <th>256</th>\n",
       "      <td>257</td>\n",
       "      <td>Drunk in Love</td>\n",
       "      <td>Beyoncé</td>\n",
       "      <td>dance pop</td>\n",
       "      <td>2014</td>\n",
       "      <td>140</td>\n",
       "      <td>62</td>\n",
       "      <td>59</td>\n",
       "      <td>-7</td>\n",
       "      <td>18</td>\n",
       "      <td>40</td>\n",
       "      <td>323</td>\n",
       "      <td>1</td>\n",
       "      <td>5</td>\n",
       "      <td>52</td>\n",
       "    </tr>\n",
       "    <tr>\n",
       "      <th>332</th>\n",
       "      <td>333</td>\n",
       "      <td>American Oxygen</td>\n",
       "      <td>Rihanna</td>\n",
       "      <td>barbadian pop</td>\n",
       "      <td>2015</td>\n",
       "      <td>78</td>\n",
       "      <td>75</td>\n",
       "      <td>39</td>\n",
       "      <td>-6</td>\n",
       "      <td>33</td>\n",
       "      <td>48</td>\n",
       "      <td>320</td>\n",
       "      <td>5</td>\n",
       "      <td>9</td>\n",
       "      <td>61</td>\n",
       "    </tr>\n",
       "    <tr>\n",
       "      <th>345</th>\n",
       "      <td>346</td>\n",
       "      <td>Bloodstream</td>\n",
       "      <td>Ed Sheeran</td>\n",
       "      <td>pop</td>\n",
       "      <td>2015</td>\n",
       "      <td>89</td>\n",
       "      <td>59</td>\n",
       "      <td>48</td>\n",
       "      <td>-6</td>\n",
       "      <td>6</td>\n",
       "      <td>27</td>\n",
       "      <td>309</td>\n",
       "      <td>20</td>\n",
       "      <td>5</td>\n",
       "      <td>52</td>\n",
       "    </tr>\n",
       "    <tr>\n",
       "      <th>422</th>\n",
       "      <td>423</td>\n",
       "      <td>Wish That You Were Here - From “Miss Peregrine...</td>\n",
       "      <td>Florence + The Machine</td>\n",
       "      <td>art pop</td>\n",
       "      <td>2016</td>\n",
       "      <td>94</td>\n",
       "      <td>57</td>\n",
       "      <td>37</td>\n",
       "      <td>-6</td>\n",
       "      <td>13</td>\n",
       "      <td>12</td>\n",
       "      <td>403</td>\n",
       "      <td>72</td>\n",
       "      <td>3</td>\n",
       "      <td>57</td>\n",
       "    </tr>\n",
       "    <tr>\n",
       "      <th>431</th>\n",
       "      <td>432</td>\n",
       "      <td>Start</td>\n",
       "      <td>John Legend</td>\n",
       "      <td>neo mellow</td>\n",
       "      <td>2016</td>\n",
       "      <td>110</td>\n",
       "      <td>4</td>\n",
       "      <td>52</td>\n",
       "      <td>-15</td>\n",
       "      <td>9</td>\n",
       "      <td>26</td>\n",
       "      <td>310</td>\n",
       "      <td>99</td>\n",
       "      <td>4</td>\n",
       "      <td>47</td>\n",
       "    </tr>\n",
       "    <tr>\n",
       "      <th>543</th>\n",
       "      <td>544</td>\n",
       "      <td>Sign of the Times</td>\n",
       "      <td>Harry Styles</td>\n",
       "      <td>dance pop</td>\n",
       "      <td>2018</td>\n",
       "      <td>120</td>\n",
       "      <td>57</td>\n",
       "      <td>52</td>\n",
       "      <td>-5</td>\n",
       "      <td>11</td>\n",
       "      <td>21</td>\n",
       "      <td>341</td>\n",
       "      <td>3</td>\n",
       "      <td>3</td>\n",
       "      <td>72</td>\n",
       "    </tr>\n",
       "    <tr>\n",
       "      <th>559</th>\n",
       "      <td>560</td>\n",
       "      <td>Walk On Water (feat. Beyoncé)</td>\n",
       "      <td>Eminem</td>\n",
       "      <td>detroit hip hop</td>\n",
       "      <td>2018</td>\n",
       "      <td>82</td>\n",
       "      <td>44</td>\n",
       "      <td>48</td>\n",
       "      <td>-10</td>\n",
       "      <td>64</td>\n",
       "      <td>62</td>\n",
       "      <td>304</td>\n",
       "      <td>81</td>\n",
       "      <td>24</td>\n",
       "      <td>65</td>\n",
       "    </tr>\n",
       "  </tbody>\n",
       "</table>\n",
       "</div>"
      ],
      "text/plain": [
       "     Column1                                              title  \\\n",
       "17        18                               The Time (Dirty Bit)   \n",
       "48        49            Castle Walls (feat. Christina Aguilera)   \n",
       "63        64                                            Monster   \n",
       "76        77                                  The Edge Of Glory   \n",
       "81        82                                          You And I   \n",
       "95        96            Castle Walls (feat. Christina Aguilera)   \n",
       "162      163                             Lose Yourself to Dance   \n",
       "172      173                                         Suit & Tie   \n",
       "188      189                                                TKO   \n",
       "194      195                                Take Back the Night   \n",
       "241      242                                          Partition   \n",
       "256      257                                      Drunk in Love   \n",
       "332      333                                    American Oxygen   \n",
       "345      346                                        Bloodstream   \n",
       "422      423  Wish That You Were Here - From “Miss Peregrine...   \n",
       "431      432                                              Start   \n",
       "543      544                                  Sign of the Times   \n",
       "559      560                      Walk On Water (feat. Beyoncé)   \n",
       "\n",
       "                     artist        top genre  year  bpm  nrgy  dnce  dB  live  \\\n",
       "17      The Black Eyed Peas        dance pop  2010  128    81    82  -8    60   \n",
       "48                     T.I.      atl hip hop  2010   80    86    45  -5    26   \n",
       "63               Kanye West      chicago rap  2011  125    69    63  -6    67   \n",
       "76                Lady Gaga        dance pop  2011  128    77    58  -6    11   \n",
       "81                Lady Gaga        dance pop  2011  127    70    52  -5     9   \n",
       "95                     T.I.      atl hip hop  2011   80    86    45  -5    26   \n",
       "162               Daft Punk          electro  2013  100    66    83  -8     8   \n",
       "172       Justin Timberlake        dance pop  2013  102    60    80  -4    16   \n",
       "188       Justin Timberlake        dance pop  2013  138    68    61  -7    43   \n",
       "194       Justin Timberlake        dance pop  2013  107    66    59  -5    64   \n",
       "241                 Beyoncé        dance pop  2014  186    44    41 -12    31   \n",
       "256                 Beyoncé        dance pop  2014  140    62    59  -7    18   \n",
       "332                 Rihanna    barbadian pop  2015   78    75    39  -6    33   \n",
       "345              Ed Sheeran              pop  2015   89    59    48  -6     6   \n",
       "422  Florence + The Machine          art pop  2016   94    57    37  -6    13   \n",
       "431             John Legend       neo mellow  2016  110     4    52 -15     9   \n",
       "543            Harry Styles        dance pop  2018  120    57    52  -5    11   \n",
       "559                  Eminem  detroit hip hop  2018   82    44    48 -10    64   \n",
       "\n",
       "     val  dur  acous  spch  pop  \n",
       "17    44  308      7     7   70  \n",
       "48    58  329      7    39   49  \n",
       "63    10  379      0    20   73  \n",
       "76    36  321      0     4   67  \n",
       "81    52  307      9     5   64  \n",
       "95    58  329      7    39   49  \n",
       "162   67  354      8     6   72  \n",
       "172   36  326     10    22   68  \n",
       "188   49  424      1    24   58  \n",
       "194   33  353      4    16   54  \n",
       "241   17  319      3    29   65  \n",
       "256   40  323      1     5   52  \n",
       "332   48  320      5     9   61  \n",
       "345   27  309     20     5   52  \n",
       "422   12  403     72     3   57  \n",
       "431   26  310     99     4   47  \n",
       "543   21  341      3     3   72  \n",
       "559   62  304     81    24   65  "
      ]
     },
     "execution_count": 10,
     "metadata": {},
     "output_type": "execute_result"
    }
   ],
   "source": [
    "#Outliers are values below the value of Q1 − 1.5 · IQR and above the value of Q3 + 1.5 · IQR, where IQR = Q3-Q1\n",
    "q3 = data['dur'].quantile(.75)\n",
    "q1 = data['dur'].quantile(.25)\n",
    "iqr = q3-q1\n",
    "\n",
    "top_outlier_boundary = q3 + 1.5*iqr\n",
    "bottom_outlier_boundary = q1 - 1.5*iqr\n",
    "\n",
    "top_outliers = data.drop(data[data['dur']<=top_outlier_boundary].index)\n",
    "\n",
    "print(\"The boundary for the upper outliers is: \" + str(top_outlier_boundary) + \", and in total there are \" + str(top_outliers['title'].count()) + \", which are shown in the following table:\")\n",
    "\n",
    "top_outliers\n",
    "\n"
   ]
  },
  {
   "cell_type": "code",
   "execution_count": 11,
   "metadata": {
    "colab": {
     "base_uri": "https://localhost:8080/",
     "height": 110
    },
    "id": "x0dYjXF9f7MS",
    "outputId": "d23ff39d-c396-4f6a-dee6-dad7e28cbad7"
   },
   "outputs": [
    {
     "name": "stdout",
     "output_type": "stream",
     "text": [
      "The boundary for the lower outliers is: 145.75, and the 1 lower outlier is shown in the table below: \n",
      "\n"
     ]
    },
    {
     "data": {
      "text/html": [
       "<div>\n",
       "<style scoped>\n",
       "    .dataframe tbody tr th:only-of-type {\n",
       "        vertical-align: middle;\n",
       "    }\n",
       "\n",
       "    .dataframe tbody tr th {\n",
       "        vertical-align: top;\n",
       "    }\n",
       "\n",
       "    .dataframe thead th {\n",
       "        text-align: right;\n",
       "    }\n",
       "</style>\n",
       "<table border=\"1\" class=\"dataframe\">\n",
       "  <thead>\n",
       "    <tr style=\"text-align: right;\">\n",
       "      <th></th>\n",
       "      <th>Column1</th>\n",
       "      <th>title</th>\n",
       "      <th>artist</th>\n",
       "      <th>top genre</th>\n",
       "      <th>year</th>\n",
       "      <th>bpm</th>\n",
       "      <th>nrgy</th>\n",
       "      <th>dnce</th>\n",
       "      <th>dB</th>\n",
       "      <th>live</th>\n",
       "      <th>val</th>\n",
       "      <th>dur</th>\n",
       "      <th>acous</th>\n",
       "      <th>spch</th>\n",
       "      <th>pop</th>\n",
       "    </tr>\n",
       "  </thead>\n",
       "  <tbody>\n",
       "    <tr>\n",
       "      <th>330</th>\n",
       "      <td>331</td>\n",
       "      <td>Mark My Words</td>\n",
       "      <td>Justin Bieber</td>\n",
       "      <td>canadian pop</td>\n",
       "      <td>2015</td>\n",
       "      <td>114</td>\n",
       "      <td>26</td>\n",
       "      <td>38</td>\n",
       "      <td>-9</td>\n",
       "      <td>17</td>\n",
       "      <td>52</td>\n",
       "      <td>134</td>\n",
       "      <td>88</td>\n",
       "      <td>3</td>\n",
       "      <td>63</td>\n",
       "    </tr>\n",
       "  </tbody>\n",
       "</table>\n",
       "</div>"
      ],
      "text/plain": [
       "     Column1          title         artist     top genre  year  bpm  nrgy  \\\n",
       "330      331  Mark My Words  Justin Bieber  canadian pop  2015  114    26   \n",
       "\n",
       "     dnce  dB  live  val  dur  acous  spch  pop  \n",
       "330    38  -9    17   52  134     88     3   63  "
      ]
     },
     "execution_count": 11,
     "metadata": {},
     "output_type": "execute_result"
    }
   ],
   "source": [
    "bottom_outliers = data.drop(data[data['dur']>=bottom_outlier_boundary].index)\n",
    "\n",
    "print(\"The boundary for the lower outliers is: \" + str(bottom_outlier_boundary) + \", and the \" + str(bottom_outliers['title'].count()) +\" lower outlier is shown in the table below: \\n\") \n",
    "bottom_outliers"
   ]
  },
  {
   "cell_type": "markdown",
   "metadata": {
    "id": "vfD8Lk2jl183"
   },
   "source": [
    "# QUESTION 5\n",
    "## Obtain an histogram for the variable *dur*. What can you say about the shape of the distribution?"
   ]
  },
  {
   "cell_type": "markdown",
   "metadata": {
    "id": "3KOhYMXYo-Pi"
   },
   "source": [
    "Here is the histogram:"
   ]
  },
  {
   "cell_type": "code",
   "execution_count": 12,
   "metadata": {
    "colab": {
     "base_uri": "https://localhost:8080/",
     "height": 265
    },
    "id": "ppwU6DzGl_EX",
    "outputId": "381462c3-ebc8-4a01-88ab-6c4eb7154536"
   },
   "outputs": [
    {
     "data": {
      "image/png": "[encoded data removed]",
      "text/plain": [
       "<Figure size 432x288 with 1 Axes>"
      ]
     },
     "metadata": {
      "needs_background": "light"
     },
     "output_type": "display_data"
    }
   ],
   "source": [
    "import matplotlib.pyplot as plt\n",
    "%matplotlib inline\n",
    "data['dur'].plot.hist()\n",
    "\n",
    "plt.show()"
   ]
  },
  {
   "cell_type": "markdown",
   "metadata": {
    "id": "Q5lES8DTnwvB"
   },
   "source": [
    "About the shape of the histogram we can see that it is more or less symetric, which we can check by comparing the mean and median for the variable *dur*.\n",
    "\n",
    "Please notice that when comparing these values we are considering that if the difference between the mean and the median is smaller than 1/50 of the mean, the distribution will be symmetric.\n"
   ]
  },
  {
   "cell_type": "code",
   "execution_count": 13,
   "metadata": {
    "colab": {
     "base_uri": "https://localhost:8080/"
    },
    "id": "wdUiQaFtn_nd",
    "outputId": "457f76f2-6dd3-4cf5-a4ce-4436dfe1af70"
   },
   "outputs": [
    {
     "name": "stdout",
     "output_type": "stream",
     "text": [
      "The value for the mean is: 224.67, while for the median is 221.0\n",
      "As we can see they are very close values, so the histogram is symetric.\n"
     ]
    }
   ],
   "source": [
    "x = data['dur'].mean()\n",
    "M = data['dur'].median()\n",
    "\n",
    "print(\"The value for the mean is: \"+str(round(x, 2))+\", while for the median is \"+str(round(M, 2)))\n",
    "\n",
    "\n",
    "if (abs(x-M) <= x/50 ):\n",
    "  print (\"As we can see they are very close values, so the histogram is symetric.\")\n",
    "if (x-M > x/50 ):\n",
    "  print (\"As we can see the mean is greater than the median, so it is right-skewed.\")\n",
    "if (x-M < -x/50 ):\n",
    "  print (\"As we can see the median is greater than the mean, so it is left-skewed.\")"
   ]
  },
  {
   "cell_type": "markdown",
   "metadata": {
    "id": "TXMFJTn-pjss"
   },
   "source": [
    "# QUESTION 6\n",
    "## Plot the *val* (axis X) versus the *pop* position (axis Y). The observations correspoinding to the artist \"Lady Gaga\" should appear in red color."
   ]
  },
  {
   "cell_type": "markdown",
   "metadata": {
    "id": "2PwVWDqXJ7rV"
   },
   "source": [
    "Here is the plot (the observations corresponding to Lady Gaga are shown in red):"
   ]
  },
  {
   "cell_type": "code",
   "execution_count": 14,
   "metadata": {
    "colab": {
     "base_uri": "https://localhost:8080/",
     "height": 282
    },
    "id": "0Or2m3Bgpqkj",
    "outputId": "3b6d87da-8ca4-4a97-ef55-dcd85526fb5c"
   },
   "outputs": [
    {
     "data": {
      "text/plain": [
       "<matplotlib.collections.PathCollection at 0x7f010d511c10>"
      ]
     },
     "execution_count": 14,
     "metadata": {},
     "output_type": "execute_result"
    },
    {
     "data": {
      "image/png": "[encoded data removed]",
      "text/plain": [
       "<Figure size 432x288 with 1 Axes>"
      ]
     },
     "metadata": {
      "needs_background": "light"
     },
     "output_type": "display_data"
    }
   ],
   "source": [
    "plt.scatter(data['val'][data['artist'] != 'Lady Gaga'], data['pop'][data['artist'] != 'Lady Gaga'], marker = 'x', color = 'b')\n",
    "plt.scatter(data['val'][data['artist'] == 'Lady Gaga'], data['pop'][data['artist'] == 'Lady Gaga'], marker = 'o', color = 'r')\n",
    "#this way we are adding one scatter plot to the other, resulting in the following combined graph.\n"
   ]
  },
  {
   "cell_type": "markdown",
   "metadata": {
    "id": "NFJL8g2iZvhJ"
   },
   "source": [
    "# QUESTION 7\n",
    "## Obtain a frequency table that summarizes the number of songs per year. Create a bar chart."
   ]
  },
  {
   "cell_type": "markdown",
   "metadata": {
    "id": "RWW8a6Q9LEeO"
   },
   "source": [
    "Here is the frequency table:"
   ]
  },
  {
   "cell_type": "code",
   "execution_count": 15,
   "metadata": {
    "colab": {
     "base_uri": "https://localhost:8080/",
     "height": 390
    },
    "id": "mPzZ5QO-Z0AT",
    "outputId": "8ec4fd3f-ea00-41d1-f7a4-0d180775093a"
   },
   "outputs": [
    {
     "name": "stdout",
     "output_type": "stream",
     "text": [
      "The frequency table is: \n"
     ]
    },
    {
     "data": {
      "text/html": [
       "<div>\n",
       "<style scoped>\n",
       "    .dataframe tbody tr th:only-of-type {\n",
       "        vertical-align: middle;\n",
       "    }\n",
       "\n",
       "    .dataframe tbody tr th {\n",
       "        vertical-align: top;\n",
       "    }\n",
       "\n",
       "    .dataframe thead th {\n",
       "        text-align: right;\n",
       "    }\n",
       "</style>\n",
       "<table border=\"1\" class=\"dataframe\">\n",
       "  <thead>\n",
       "    <tr style=\"text-align: right;\">\n",
       "      <th>col_0</th>\n",
       "      <th>count</th>\n",
       "    </tr>\n",
       "    <tr>\n",
       "      <th>year</th>\n",
       "      <th></th>\n",
       "    </tr>\n",
       "  </thead>\n",
       "  <tbody>\n",
       "    <tr>\n",
       "      <th>2010</th>\n",
       "      <td>51</td>\n",
       "    </tr>\n",
       "    <tr>\n",
       "      <th>2011</th>\n",
       "      <td>53</td>\n",
       "    </tr>\n",
       "    <tr>\n",
       "      <th>2012</th>\n",
       "      <td>35</td>\n",
       "    </tr>\n",
       "    <tr>\n",
       "      <th>2013</th>\n",
       "      <td>71</td>\n",
       "    </tr>\n",
       "    <tr>\n",
       "      <th>2014</th>\n",
       "      <td>58</td>\n",
       "    </tr>\n",
       "    <tr>\n",
       "      <th>2015</th>\n",
       "      <td>95</td>\n",
       "    </tr>\n",
       "    <tr>\n",
       "      <th>2016</th>\n",
       "      <td>80</td>\n",
       "    </tr>\n",
       "    <tr>\n",
       "      <th>2017</th>\n",
       "      <td>65</td>\n",
       "    </tr>\n",
       "    <tr>\n",
       "      <th>2018</th>\n",
       "      <td>64</td>\n",
       "    </tr>\n",
       "    <tr>\n",
       "      <th>2019</th>\n",
       "      <td>31</td>\n",
       "    </tr>\n",
       "  </tbody>\n",
       "</table>\n",
       "</div>"
      ],
      "text/plain": [
       "col_0  count\n",
       "year        \n",
       "2010      51\n",
       "2011      53\n",
       "2012      35\n",
       "2013      71\n",
       "2014      58\n",
       "2015      95\n",
       "2016      80\n",
       "2017      65\n",
       "2018      64\n",
       "2019      31"
      ]
     },
     "execution_count": 15,
     "metadata": {},
     "output_type": "execute_result"
    }
   ],
   "source": [
    "tab = pd.crosstab(index = data['year'], columns = 'count')\n",
    "\n",
    "print(\"The frequency table is: \")\n",
    "tab\n"
   ]
  },
  {
   "cell_type": "markdown",
   "metadata": {
    "id": "lDT8gS1hLVvF"
   },
   "source": [
    "Here is the bar chart:"
   ]
  },
  {
   "cell_type": "code",
   "execution_count": 16,
   "metadata": {
    "colab": {
     "base_uri": "https://localhost:8080/",
     "height": 295
    },
    "id": "rmxKaOGRb4L-",
    "outputId": "14aeda1a-ac86-474c-c01e-01f43d753012"
   },
   "outputs": [
    {
     "data": {
      "image/png": "[encoded data removed]",
      "text/plain": [
       "<Figure size 432x288 with 1 Axes>"
      ]
     },
     "metadata": {
      "needs_background": "light"
     },
     "output_type": "display_data"
    }
   ],
   "source": [
    "tab.plot.bar()\n",
    "plt.show()"
   ]
  },
  {
   "cell_type": "markdown",
   "metadata": {
    "id": "9W7aEv2Cb74U"
   },
   "source": [
    "# QUESTION 8\n",
    "## Identify the songs of Adele. Create a pie chart taking into acount the year.\n",
    "\n"
   ]
  },
  {
   "cell_type": "markdown",
   "metadata": {
    "id": "0fEq45wtj8Ap"
   },
   "source": [
    "These are the songs of Adele:"
   ]
  },
  {
   "cell_type": "code",
   "execution_count": 17,
   "metadata": {
    "colab": {
     "base_uri": "https://localhost:8080/",
     "height": 360
    },
    "id": "Y7Wq6a4MBPTq",
    "outputId": "1025c2d7-6977-46bd-d11d-d58ce249594f"
   },
   "outputs": [
    {
     "name": "stdout",
     "output_type": "stream",
     "text": [
      "Adele has 10 songs in the list, which are the following ones: \n"
     ]
    },
    {
     "data": {
      "text/html": [
       "<div>\n",
       "<style scoped>\n",
       "    .dataframe tbody tr th:only-of-type {\n",
       "        vertical-align: middle;\n",
       "    }\n",
       "\n",
       "    .dataframe tbody tr th {\n",
       "        vertical-align: top;\n",
       "    }\n",
       "\n",
       "    .dataframe thead th {\n",
       "        text-align: right;\n",
       "    }\n",
       "</style>\n",
       "<table border=\"1\" class=\"dataframe\">\n",
       "  <thead>\n",
       "    <tr style=\"text-align: right;\">\n",
       "      <th></th>\n",
       "      <th>Column1</th>\n",
       "      <th>title</th>\n",
       "      <th>artist</th>\n",
       "      <th>top genre</th>\n",
       "      <th>year</th>\n",
       "      <th>bpm</th>\n",
       "      <th>nrgy</th>\n",
       "      <th>dnce</th>\n",
       "      <th>dB</th>\n",
       "      <th>live</th>\n",
       "      <th>val</th>\n",
       "      <th>dur</th>\n",
       "      <th>acous</th>\n",
       "      <th>spch</th>\n",
       "      <th>pop</th>\n",
       "    </tr>\n",
       "  </thead>\n",
       "  <tbody>\n",
       "    <tr>\n",
       "      <th>52</th>\n",
       "      <td>53</td>\n",
       "      <td>Someone Like You</td>\n",
       "      <td>Adele</td>\n",
       "      <td>british soul</td>\n",
       "      <td>2011</td>\n",
       "      <td>135</td>\n",
       "      <td>33</td>\n",
       "      <td>56</td>\n",
       "      <td>-8</td>\n",
       "      <td>10</td>\n",
       "      <td>28</td>\n",
       "      <td>285</td>\n",
       "      <td>89</td>\n",
       "      <td>3</td>\n",
       "      <td>80</td>\n",
       "    </tr>\n",
       "    <tr>\n",
       "      <th>55</th>\n",
       "      <td>56</td>\n",
       "      <td>Rolling in the Deep</td>\n",
       "      <td>Adele</td>\n",
       "      <td>british soul</td>\n",
       "      <td>2011</td>\n",
       "      <td>105</td>\n",
       "      <td>76</td>\n",
       "      <td>73</td>\n",
       "      <td>-5</td>\n",
       "      <td>5</td>\n",
       "      <td>52</td>\n",
       "      <td>228</td>\n",
       "      <td>13</td>\n",
       "      <td>3</td>\n",
       "      <td>76</td>\n",
       "    </tr>\n",
       "    <tr>\n",
       "      <th>112</th>\n",
       "      <td>113</td>\n",
       "      <td>Set Fire to the Rain</td>\n",
       "      <td>Adele</td>\n",
       "      <td>british soul</td>\n",
       "      <td>2012</td>\n",
       "      <td>108</td>\n",
       "      <td>68</td>\n",
       "      <td>61</td>\n",
       "      <td>-4</td>\n",
       "      <td>13</td>\n",
       "      <td>47</td>\n",
       "      <td>242</td>\n",
       "      <td>0</td>\n",
       "      <td>3</td>\n",
       "      <td>76</td>\n",
       "    </tr>\n",
       "    <tr>\n",
       "      <th>295</th>\n",
       "      <td>296</td>\n",
       "      <td>Hello</td>\n",
       "      <td>Adele</td>\n",
       "      <td>british soul</td>\n",
       "      <td>2015</td>\n",
       "      <td>158</td>\n",
       "      <td>45</td>\n",
       "      <td>48</td>\n",
       "      <td>-6</td>\n",
       "      <td>9</td>\n",
       "      <td>29</td>\n",
       "      <td>295</td>\n",
       "      <td>34</td>\n",
       "      <td>3</td>\n",
       "      <td>73</td>\n",
       "    </tr>\n",
       "    <tr>\n",
       "      <th>398</th>\n",
       "      <td>399</td>\n",
       "      <td>All I Ask</td>\n",
       "      <td>Adele</td>\n",
       "      <td>british soul</td>\n",
       "      <td>2016</td>\n",
       "      <td>142</td>\n",
       "      <td>28</td>\n",
       "      <td>59</td>\n",
       "      <td>-5</td>\n",
       "      <td>15</td>\n",
       "      <td>34</td>\n",
       "      <td>272</td>\n",
       "      <td>88</td>\n",
       "      <td>3</td>\n",
       "      <td>71</td>\n",
       "    </tr>\n",
       "    <tr>\n",
       "      <th>417</th>\n",
       "      <td>418</td>\n",
       "      <td>Send My Love (To Your New Lover)</td>\n",
       "      <td>Adele</td>\n",
       "      <td>british soul</td>\n",
       "      <td>2016</td>\n",
       "      <td>164</td>\n",
       "      <td>52</td>\n",
       "      <td>69</td>\n",
       "      <td>-8</td>\n",
       "      <td>17</td>\n",
       "      <td>56</td>\n",
       "      <td>223</td>\n",
       "      <td>4</td>\n",
       "      <td>10</td>\n",
       "      <td>61</td>\n",
       "    </tr>\n",
       "    <tr>\n",
       "      <th>420</th>\n",
       "      <td>421</td>\n",
       "      <td>When We Were Young</td>\n",
       "      <td>Adele</td>\n",
       "      <td>british soul</td>\n",
       "      <td>2016</td>\n",
       "      <td>144</td>\n",
       "      <td>59</td>\n",
       "      <td>38</td>\n",
       "      <td>-6</td>\n",
       "      <td>9</td>\n",
       "      <td>27</td>\n",
       "      <td>291</td>\n",
       "      <td>35</td>\n",
       "      <td>5</td>\n",
       "      <td>58</td>\n",
       "    </tr>\n",
       "    <tr>\n",
       "      <th>442</th>\n",
       "      <td>443</td>\n",
       "      <td>Million Years Ago</td>\n",
       "      <td>Adele</td>\n",
       "      <td>british soul</td>\n",
       "      <td>2016</td>\n",
       "      <td>0</td>\n",
       "      <td>0</td>\n",
       "      <td>0</td>\n",
       "      <td>-60</td>\n",
       "      <td>0</td>\n",
       "      <td>0</td>\n",
       "      <td>227</td>\n",
       "      <td>0</td>\n",
       "      <td>0</td>\n",
       "      <td>0</td>\n",
       "    </tr>\n",
       "    <tr>\n",
       "      <th>473</th>\n",
       "      <td>474</td>\n",
       "      <td>All I Ask</td>\n",
       "      <td>Adele</td>\n",
       "      <td>british soul</td>\n",
       "      <td>2017</td>\n",
       "      <td>142</td>\n",
       "      <td>28</td>\n",
       "      <td>59</td>\n",
       "      <td>-5</td>\n",
       "      <td>15</td>\n",
       "      <td>34</td>\n",
       "      <td>272</td>\n",
       "      <td>88</td>\n",
       "      <td>3</td>\n",
       "      <td>71</td>\n",
       "    </tr>\n",
       "    <tr>\n",
       "      <th>504</th>\n",
       "      <td>505</td>\n",
       "      <td>Water Under the Bridge</td>\n",
       "      <td>Adele</td>\n",
       "      <td>british soul</td>\n",
       "      <td>2017</td>\n",
       "      <td>95</td>\n",
       "      <td>84</td>\n",
       "      <td>60</td>\n",
       "      <td>-7</td>\n",
       "      <td>11</td>\n",
       "      <td>47</td>\n",
       "      <td>240</td>\n",
       "      <td>2</td>\n",
       "      <td>7</td>\n",
       "      <td>49</td>\n",
       "    </tr>\n",
       "  </tbody>\n",
       "</table>\n",
       "</div>"
      ],
      "text/plain": [
       "     Column1                             title artist     top genre  year  \\\n",
       "52        53                  Someone Like You  Adele  british soul  2011   \n",
       "55        56               Rolling in the Deep  Adele  british soul  2011   \n",
       "112      113              Set Fire to the Rain  Adele  british soul  2012   \n",
       "295      296                             Hello  Adele  british soul  2015   \n",
       "398      399                         All I Ask  Adele  british soul  2016   \n",
       "417      418  Send My Love (To Your New Lover)  Adele  british soul  2016   \n",
       "420      421                When We Were Young  Adele  british soul  2016   \n",
       "442      443                 Million Years Ago  Adele  british soul  2016   \n",
       "473      474                         All I Ask  Adele  british soul  2017   \n",
       "504      505            Water Under the Bridge  Adele  british soul  2017   \n",
       "\n",
       "     bpm  nrgy  dnce  dB  live  val  dur  acous  spch  pop  \n",
       "52   135    33    56  -8    10   28  285     89     3   80  \n",
       "55   105    76    73  -5     5   52  228     13     3   76  \n",
       "112  108    68    61  -4    13   47  242      0     3   76  \n",
       "295  158    45    48  -6     9   29  295     34     3   73  \n",
       "398  142    28    59  -5    15   34  272     88     3   71  \n",
       "417  164    52    69  -8    17   56  223      4    10   61  \n",
       "420  144    59    38  -6     9   27  291     35     5   58  \n",
       "442    0     0     0 -60     0    0  227      0     0    0  \n",
       "473  142    28    59  -5    15   34  272     88     3   71  \n",
       "504   95    84    60  -7    11   47  240      2     7   49  "
      ]
     },
     "execution_count": 17,
     "metadata": {},
     "output_type": "execute_result"
    }
   ],
   "source": [
    "adele_songs = data.drop(data[data['artist'] != 'Adele'].index) \n",
    "\n",
    "print(\"Adele has \"+ str(adele_songs['title'].count()) +\" songs in the list, which are the following ones: \")\n",
    "adele_songs"
   ]
  },
  {
   "cell_type": "markdown",
   "metadata": {
    "id": "WypnX4rlj_xh"
   },
   "source": [
    "We can express this data in a pie chart taking into account the year:"
   ]
  },
  {
   "cell_type": "code",
   "execution_count": 18,
   "metadata": {
    "colab": {
     "base_uri": "https://localhost:8080/",
     "height": 575
    },
    "id": "pkH6nH8tBep8",
    "outputId": "d50b5463-339f-4456-fc41-cb201b85ec21"
   },
   "outputs": [
    {
     "data": {
      "image/png": "[encoded data removed]",
      "text/plain": [
       "<Figure size 720x720 with 1 Axes>"
      ]
     },
     "metadata": {},
     "output_type": "display_data"
    }
   ],
   "source": [
    "plot = adele_songs['year'].value_counts().plot.pie(y='songs', figsize=(10, 10)) #define plot\n",
    "\n",
    "x = adele_songs['year'].value_counts() #specify data values\n",
    "plt.pie(x, autopct='%1.1f%%') #show percentages\n",
    "plt.show() #plot\n",
    "\n"
   ]
  }
 ],
 "metadata": {
  "colab": {
   "collapsed_sections": [],
   "name": "my_lab_1.ipynb",
   "provenance": [],
   "toc_visible": true
  },
  "kernelspec": {
   "display_name": "Python 3",
   "language": "python",
   "name": "python3"
  },
  "language_info": {
   "codemirror_mode": {
    "name": "ipython",
    "version": 3
   },
   "file_extension": ".py",
   "mimetype": "text/x-python",
   "name": "python",
   "nbconvert_exporter": "python",
   "pygments_lexer": "ipython3",
   "version": "3.8.5"
  }
 },
 "nbformat": 4,
 "nbformat_minor": 1
}
