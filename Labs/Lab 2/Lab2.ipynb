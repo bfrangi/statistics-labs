{
 "cells": [
  {
   "cell_type": "markdown",
   "metadata": {},
   "source": [
    "# Probability and Statistics\n",
    "## Computer Lab 2: Probability and Random Variables\n",
    "\n",
    "### Date: 16/03/2021"
   ]
  },
  {
   "cell_type": "markdown",
   "metadata": {},
   "source": [
    "## Assignment"
   ]
  },
  {
   "cell_type": "code",
   "execution_count": 1,
   "metadata": {},
   "outputs": [],
   "source": [
    "import numpy as np\n",
    "import matplotlib.pyplot as plt\n",
    "import math as mt"
   ]
  },
  {
   "cell_type": "markdown",
   "metadata": {},
   "source": [
    "### Exercise 1"
   ]
  },
  {
   "cell_type": "markdown",
   "metadata": {},
   "source": [
    "Exercise 1:\n",
    "Suppose that, on average, a football player scores about one out of every 8 shot on goals she tried. In other words, she has a 1/8=12.5% chance of scoring each shot she takes. Assume that in a given match, the football player shots 10 times on goal. Simulate the described proccess to answer the following questions.\n",
    "\n",
    "\n",
    "a. What is the expected number of goals that will be scored by the player?\n",
    "\n",
    "b. Estimate the probability that she scores 0, 1, 2,..., 10 goals during the match.\n",
    "\n",
    "c. Consider that the player has improved her skills so that now she has a 30% chance of scoring each shot she takes, and assume again that she shots 10 times on goal. Answer the questions 1 and 2 in this case.\n"
   ]
  },
  {
   "cell_type": "markdown",
   "metadata": {},
   "source": [
    "What we will do is to calculate the probability using theoretical background, and then use this ground value to compare the different ones we will obtain when running the following simulations.\n",
    "\n",
    "Firstly we need to notice that X (the number of goals scored per match) is a random variable that follows a Binomial distributiuon. This is because, for each attemp (tries in the code) the result is either 0 or 1 (goal or not goal), and the probability of 0/1 is known beforehand (1/8, called prob in the code).\n",
    "So X -- B(10, 1/8), per match.\n",
    "Thus, the theoretical average of goals per match is simply n*p, which in our case turns into: tries*p = 10*1/8 = 1.25.\n",
    "\n",
    "For the simulations we will simply run a simple simulation that counts the number of goals it scores in the simulation, and then we accumulate all this values in a same list. \n",
    "Then, we can iterate over this list, and sum its items and divide that over the number of simulations, so we obtain the average of goals per match (simulation).\n",
    "If the number of simulations is high enough, the value will actually be very close to the theoretical one."
   ]
  },
  {
   "cell_type": "code",
   "execution_count": 2,
   "metadata": {},
   "outputs": [],
   "source": [
    "prob = 1/8 #vector of probabilities (=1/6 if fair die)\n",
    "tries = 10 #number of simulations\n",
    "matches = 10000\n",
    "\n",
    "Goalvector = np.arange(tries) # create vector to store results\n",
    "\n",
    "def goal(prob, matches):    \n",
    "    for i in range(0, tries):    \n",
    "        Goalvector[i] = np.random.binomial(1, prob)     \n",
    "        #print (DieResults[i])\n",
    "    return np.sum(Goalvector)\n",
    "\n",
    "Goal_Results=np.arange(matches)\n",
    "\n",
    "for i in range(0, matches):\n",
    "    Goal_Results[i]=goal(prob, matches)\n",
    "\n",
    "#print (Goal_Results)"
   ]
  },
  {
   "cell_type": "code",
   "execution_count": 3,
   "metadata": {},
   "outputs": [
    {
     "name": "stdout",
     "output_type": "stream",
     "text": [
      "The answer to question a is: \n",
      "\n",
      "The theoretical value of the number of goals per match expected is: 1.25\n",
      "The experimental value obtained from the simulations is: 1.2482\n",
      "The error is then: 0.0018\n"
     ]
    }
   ],
   "source": [
    "print(\"The answer to question a is: \\n\")\n",
    "\n",
    "theoretical_value = prob*tries\n",
    "exp_value = sum(Goal_Results)/matches\n",
    "diff = abs(theoretical_value-exp_value)\n",
    "\n",
    "print(\"The theoretical value of the number of goals per match expected is: \"+str(theoretical_value))\n",
    "print(\"The experimental value obtained from the simulations is: \"+str(exp_value))\n",
    "print(\"The error is then: \"+str(round(diff, 4)))"
   ]
  },
  {
   "cell_type": "code",
   "execution_count": 4,
   "metadata": {},
   "outputs": [
    {
     "name": "stdout",
     "output_type": "stream",
     "text": [
      "The answer to question b is: \n",
      "\n",
      "\n",
      " The experimental probability of scoring is: \n",
      "\n",
      "For 0 is of: 0.27\n",
      "For 1 is of: 0.37\n",
      "For 2 is of: 0.24\n",
      "For 3 is of: 0.09\n",
      "For 4 is of: 0.02\n",
      "For 5 is of: 0.0\n",
      "For 6 is of: 0.0\n",
      "For 7 is of: 0.0\n",
      "For 8 is of: 0.0\n",
      "For 9 is of: 0.0\n",
      "For 10 is of: 0.0\n",
      "\n",
      "\n",
      " The theoretical one is: \n",
      "\n",
      "For 0 is: 0.2631\n",
      "For 1 is: 0.3758\n",
      "For 2 is: 0.2416\n",
      "For 3 is: 0.092\n",
      "For 4 is: 0.023\n",
      "For 5 is: 0.0039\n",
      "For 6 is: 0.0005\n",
      "For 7 is: 0.0\n",
      "For 8 is: 0.0\n",
      "For 9 is: 0.0\n",
      "For 10 is: 0.0\n",
      "\n",
      "\n",
      " So each one has an error of: \n",
      "\n",
      "For 0 is: 0.0069\n",
      "For 1 is: 0.0058\n",
      "For 2 is: 0.0016\n",
      "For 3 is: 0.002\n",
      "For 4 is: 0.003\n",
      "For 5 is: 0.0039\n",
      "For 6 is: 0.0005\n",
      "For 7 is: 0.0\n",
      "For 8 is: 0.0\n",
      "For 9 is: 0.0\n",
      "For 10 is: 0.0\n",
      "\n",
      "\n",
      " So they are all almost null.\n"
     ]
    }
   ],
   "source": [
    "print(\"The answer to question b is: \\n\\n\")\n",
    "\n",
    "count=[0,0,0,0,0,0,0,0,0,0,0]\n",
    "p_theoretical =[0,0,0,0,0,0,0,0,0,0,0]\n",
    "\n",
    "\n",
    "for i in Goal_Results:\n",
    "    for j in range(0,11):\n",
    "        if i == j:\n",
    "            count[j] += 1\n",
    "#print(count)\n",
    "#Since it is binomial, we can calculate easily the theoretical value for each probability.\n",
    "#this is nothing but comb(8 x)*p^x*(1-p)^n-x\n",
    "\n",
    "for i in range(11):\n",
    "    p_theoretical[i] = (mt.factorial(10)/(mt.factorial(i)*mt.factorial(10-i)))*(1/8)**i*(7/8)**(10-i)\n",
    "    p_theoretical[i] = round(p_theoretical[i], 4)\n",
    "p_exp = count\n",
    "#print(p_theoretical)\n",
    "print(\" The experimental probability of scoring is: \", end=\"\\n\\n\")\n",
    "for i in range(11):\n",
    "    p_exp[i] = round(p_exp[i]/matches, 2)\n",
    "    print(\"For \"+str(i)+\" is of: \"+str(p_exp[i]))\n",
    "print(\"\\n\\n The theoretical one is: \", end=\"\\n\\n\")\n",
    "for i in range(11):\n",
    "    print(\"For \"+str(i)+\" is: \"+str(p_theoretical[i]))\n",
    "print(\"\\n\\n So each one has an error of: \", end=\"\\n\\n\")\n",
    "for i in range(11):\n",
    "    print(\"For \"+str(i)+\" is: \"+str(round(abs(p_exp[i]-p_theoretical[i]), 4)))\n",
    "\n",
    "print(\"\\n\\n So they are all almost null.\")"
   ]
  },
  {
   "cell_type": "markdown",
   "metadata": {},
   "source": [
    "For part c we can do exactly the same as we have done for parts a and b, just changing the probability of success (X being 1, goal, in the binomial distribution) to 0.3."
   ]
  },
  {
   "cell_type": "code",
   "execution_count": 5,
   "metadata": {},
   "outputs": [
    {
     "name": "stdout",
     "output_type": "stream",
     "text": [
      "\n",
      "The answer to question c first part is:\n",
      "\n",
      "The theoretical value of the number of goals per match expected is: 3.0\n",
      "The experimental value obtained from the simulations is: 3.0034\n",
      "The error is then: 0.0034\n",
      "\n",
      "The answer to question c second part is: \n",
      "\n",
      " The experimental probability of scoring is: \n",
      "\n",
      "For 0 is of: 0.02\n",
      "For 1 is of: 0.13\n",
      "For 2 is of: 0.23\n",
      "For 3 is of: 0.26\n",
      "For 4 is of: 0.21\n",
      "For 5 is of: 0.1\n",
      "For 6 is of: 0.04\n",
      "For 7 is of: 0.01\n",
      "For 8 is of: 0.0\n",
      "For 9 is of: 0.0\n",
      "For 10 is of: 0.0\n",
      "\n",
      "\n",
      " The theoretical one is: \n",
      "\n",
      "For 0 is: 0.0282\n",
      "For 1 is: 0.1211\n",
      "For 2 is: 0.2335\n",
      "For 3 is: 0.2668\n",
      "For 4 is: 0.2001\n",
      "For 5 is: 0.1029\n",
      "For 6 is: 0.0368\n",
      "For 7 is: 0.009\n",
      "For 8 is: 0.0014\n",
      "For 9 is: 0.0001\n",
      "For 10 is: 0.0\n",
      "\n",
      "\n",
      " So each one has an error of: \n",
      "\n",
      "For 0 is: 0.0082\n",
      "For 1 is: 0.0089\n",
      "For 2 is: 0.0035\n",
      "For 3 is: 0.0068\n",
      "For 4 is: 0.0099\n",
      "For 5 is: 0.0029\n",
      "For 6 is: 0.0032\n",
      "For 7 is: 0.001\n",
      "For 8 is: 0.0014\n",
      "For 9 is: 0.0001\n",
      "For 10 is: 0.0\n",
      "\n",
      "\n",
      " So they are all almost null.\n"
     ]
    }
   ],
   "source": [
    "prob = .3 #vector of probabilities (=1/6 if fair die)\n",
    "tries = 10 #number of simulations\n",
    "matches = 10000\n",
    "\n",
    "Goalvector = np.arange(tries) # create vector to store results\n",
    "\n",
    "def goal(prob, matches):    \n",
    "    for i in range(0, tries):    \n",
    "        Goalvector[i] = np.random.binomial(1, prob)     \n",
    "        #print (DieResults[i])\n",
    "    return np.sum(Goalvector)\n",
    "\n",
    "Goal_Results=np.arange(matches)\n",
    "\n",
    "for i in range(0, matches):\n",
    "    Goal_Results[i]=goal(prob, matches)\n",
    "\n",
    "#print (Goal_Results)\n",
    "print(\"\")\n",
    "print(\"The answer to question c first part is:\", end=\"\\n\\n\")\n",
    "\n",
    "\n",
    "theoretical_value = prob*tries\n",
    "exp_value = sum(Goal_Results)/matches\n",
    "diff = abs(theoretical_value-exp_value)\n",
    "\n",
    "print(\"The theoretical value of the number of goals per match expected is: \"+str(theoretical_value))\n",
    "print(\"The experimental value obtained from the simulations is: \"+str(exp_value))\n",
    "print(\"The error is then: \"+str(round(diff, 4)), end=\"\\n\\n\")\n",
    "\n",
    "\n",
    "print(\"The answer to question c second part is: \\n\")\n",
    "count=[0,0,0,0,0,0,0,0,0,0,0]\n",
    "p_theoretical =[0,0,0,0,0,0,0,0,0,0,0]\n",
    "\n",
    "\n",
    "for i in Goal_Results:\n",
    "    for j in range(0,11):\n",
    "        if i == j:\n",
    "            count[j] += 1\n",
    "#print(count)\n",
    "#Since it is binomial, we can calculate easily the theoretical value for each probability.\n",
    "#this is nothing but comb(8 x)*p^x*(1-p)^n-x\n",
    "\n",
    "for i in range(11):\n",
    "    p_theoretical[i] = (mt.factorial(10)/(mt.factorial(i)*mt.factorial(10-i)))*(.3)**i*(.7)**(10-i)\n",
    "    p_theoretical[i] = round(p_theoretical[i], 4)\n",
    "p_exp = count\n",
    "#print(p_theoretical)\n",
    "print(\" The experimental probability of scoring is: \", end=\"\\n\\n\")\n",
    "for i in range(11):\n",
    "    p_exp[i] = round(p_exp[i]/matches, 2)\n",
    "    print(\"For \"+str(i)+\" is of: \"+str(p_exp[i]))\n",
    "print(\"\\n\\n The theoretical one is: \", end=\"\\n\\n\")\n",
    "for i in range(11):\n",
    "    print(\"For \"+str(i)+\" is: \"+str(p_theoretical[i]))\n",
    "print(\"\\n\\n So each one has an error of: \", end=\"\\n\\n\")\n",
    "for i in range(11):\n",
    "    print(\"For \"+str(i)+\" is: \"+str(round(abs(p_exp[i]-p_theoretical[i]), 4)))\n",
    "\n",
    "print(\"\\n\\n So they are all almost null.\")"
   ]
  },
  {
   "cell_type": "markdown",
   "metadata": {},
   "source": [
    "### Exercise 2"
   ]
  },
  {
   "cell_type": "markdown",
   "metadata": {},
   "source": [
    "From: *Walpole, R. E., Myers, R. H., Myers, S. L., & Ye, K. (1993). Probability and statistics for engineers and scientists (Vol. 5). New York: Macmillan.*\n",
    "\n",
    "\n",
    "The following circuit operates if and only if there is a path of functional devices from left to right. The probability that each device functions is as shown. Assume that the probability that a device is functional does not depend on whether or not other devices are functional. \n",
    "\n",
    "a. What is the probability that the circuit operates?\n",
    "\n",
    "b. Given that the the circuit operates, what is the probability that the component A is not working?\n",
    "\n",
    "Solve analitically and via simulation these questions and compare the results.\n",
    "\n",
    "<img src=\"circuit_II.PNG\" width=\"400\">"
   ]
  },
  {
   "cell_type": "code",
   "execution_count": 6,
   "metadata": {},
   "outputs": [],
   "source": [
    "import numpy as np\n",
    "import matplotlib.pyplot as plt"
   ]
  },
  {
   "cell_type": "markdown",
   "metadata": {},
   "source": [
    "#### Solution:\n",
    "\n",
    "Let $I_j$ be the event \"device $j$ functions correctly\" and event $C$ be \"The whole circuit operates correctly\". Then:\n",
    "\n",
    "##### Part a\n",
    "\n",
    "\n",
    "$$P(C)=P((I_A \\cap I_B) \\cup (I_C \\cap I_D \\cap I_E))=P(I_A \\cap I_B)+ P(I_C \\cap I_D \\cap I_E)-P(I_A \\cap I_B \\cap I_C \\cap I_D \\cap I_E)=$$\n",
    "\n",
    "\n",
    "\n",
    "$$=0.8^2+0.8^3-0.8^5=0.82432$$\n",
    "\n",
    "\n",
    "Using python to simulate the circuit:\n",
    "\n",
    "\n"
   ]
  },
  {
   "cell_type": "code",
   "execution_count": 7,
   "metadata": {},
   "outputs": [
    {
     "name": "stdout",
     "output_type": "stream",
     "text": [
      "Done\n"
     ]
    }
   ],
   "source": [
    "p = 0.8              #probability of device operating correctly\n",
    "n_dev = 5            #number of devices in the circuit (A = 1, B = 2, ...)\n",
    "n_samples = 100000   #number of simulated circuits\n",
    "\n",
    "#we can randomly generate the state of the devices:\n",
    "dev= np.zeros((n_samples, n_dev))# create matrix to store results\n",
    "#print (dev)\n",
    "def rand_dev(p,n_dev,n_samples):\n",
    "    for k in range(0,n_samples):\n",
    "        for i in range(0,n_dev):\n",
    "            dev[k,i] = np.random.binomial(1,p) # 0=open; 1=close\n",
    "    return dev\n",
    "dev=rand_dev(p,n_dev,n_samples)\n",
    "#print (dev)\n",
    "#the circuit is working if:\n",
    "#print(dev[:,0],dev[:,1],dev[:,2],dev[:,3],dev[:,4])\n",
    "condition_1=np.logical_and(dev[:,0], dev[:,1]) #device A and B are working\n",
    "condition_2=np.logical_and(dev[:,2], dev[:,3])\n",
    "condition_3=np.logical_and(condition_2, dev[:,4]) #devices C, D and E are working\n",
    "works= np.logical_or(condition_1,condition_3)\n",
    "#for k in range(len(dev)):\n",
    "#    print (k,dev[k],works[k])\n",
    "print(\"Done\")"
   ]
  },
  {
   "cell_type": "code",
   "execution_count": 8,
   "metadata": {},
   "outputs": [
    {
     "data": {
      "image/png": "[encoded data removed]",
      "text/plain": [
       "<Figure size 576x360 with 1 Axes>"
      ]
     },
     "metadata": {
      "needs_background": "light"
     },
     "output_type": "display_data"
    },
    {
     "name": "stdout",
     "output_type": "stream",
     "text": [
      "Theoretical Probability = 0.82432\n",
      "  Simulated Probability = 0.823\n"
     ]
    }
   ],
   "source": [
    "#a)\n",
    "cum_sum=np.cumsum(works) #accumulated sum\n",
    "cum_mean=cum_sum/(np.arange(n_samples)+1) #relative frequency\n",
    "plt.figure(figsize=(8,5))\n",
    "plt.plot(cum_mean,'b-', linewidth = 2.0,label='Relative Frequency')\n",
    "plt.axhline(0.82432, color='red', linewidth = 1.0,label='Theoretical Probability')\n",
    "plt.xlabel('Number of Simulations', fontsize = 18)\n",
    "plt.ylabel('Relative Frequency', fontsize = 18)\n",
    "plt.axis([0, n_samples, 0, 1])\n",
    "plt.legend()\n",
    "plt.show()\n",
    "#\n",
    "p_simul=cum_mean [n_samples-1]\n",
    "print ('Theoretical Probability = 0.82432')\n",
    "print ('  Simulated Probability =',round(p_simul,6))"
   ]
  },
  {
   "cell_type": "markdown",
   "metadata": {},
   "source": [
    "##### Part b\n",
    "    \n",
    "$$P(\\overline{I_A}|C)=\\frac{P(C|\\overline{I_A})P(\\overline{I_A})}{P(C)}=\\frac{P(I_C \\cap I_D \\cap I_E)(1-P(I_A))}{P(C)}=\\frac{0.8^3(1-0.8)}{0.82432}=0.124223602$$\n",
    "\n",
    "Alternatively, which is easier for the simulation:\n",
    "\n",
    "$$P(\\overline{I_A}|C)=1-P(I_A|C)=1-\\frac{P(C|I_A)P(I_A)}{P(C)}=1-\\frac{P(I_B \\cup (I_C \\cap I_D \\cap I_E))P(I_A)}{P(C)}=$$\n",
    "\n",
    "$$=1-\\frac{(P(I_B)+P(I_C \\cap I_D \\cap I_E)-P(I_B \\cap I_C \\cap I_D \\cap I_E))P(I_A)}{P(C)}=$$\n",
    "\n",
    "$$=1-\\frac{(0.8+0.8^3-0.8^4)·0.8}{0.82432}=0.124223602$$"
   ]
  },
  {
   "cell_type": "code",
   "execution_count": 9,
   "metadata": {},
   "outputs": [
    {
     "data": {
      "image/png": "[encoded data removed]",
      "text/plain": [
       "<Figure size 576x360 with 1 Axes>"
      ]
     },
     "metadata": {
      "needs_background": "light"
     },
     "output_type": "display_data"
    },
    {
     "name": "stdout",
     "output_type": "stream",
     "text": [
      "Theoretical Probability = 0.124223\n",
      "  Simulated Probability = 0.122637\n"
     ]
    }
   ],
   "source": [
    "#b)\n",
    "devices_working=dev[works] #only select cases where the circuit works\n",
    "#now we can see the frequency of device A working\n",
    "condition=devices_working[:,0] #device A works\n",
    "\n",
    "cum_sum=np.cumsum(condition) #accumulated sum\n",
    "cum_mean=1-cum_sum/(np.arange(cum_sum.size)+1) #relative frequency\n",
    "\n",
    "plt.figure(figsize=(8,5))\n",
    "plt.plot(cum_mean,'b-', linewidth = 2.0,label='Relative Frequency')\n",
    "plt.axhline(0.124223602, color='red', linewidth = 1.0,label='True Probability')\n",
    "plt.xlabel('Number of Simulations', fontsize = 18)\n",
    "plt.ylabel('Relative Frequency', fontsize = 18)\n",
    "plt.axis([0, cum_sum.size, 0, 1])\n",
    "plt.legend()\n",
    "plt.show()\n",
    "\n",
    "p_simul=cum_mean [cum_sum.size-1]\n",
    "print ('Theoretical Probability = 0.124223')\n",
    "print ('  Simulated Probability =',round(p_simul,6))"
   ]
  },
  {
   "cell_type": "markdown",
   "metadata": {},
   "source": [
    "##### Comments\n",
    "\n",
    "We can see that the theoretical and simulated probabilities are very very close. Of course, the more simulations you perform, the closer the simulated probability gets to the theoretical one. Here, we have used 100000 circuit simulations. We can see that, in the beginning, there is always some large fluctuations in the relative frequency. However, as we add more simulations, it stabilizes and approaches the theoretical probability more and more every time."
   ]
  },
  {
   "cell_type": "markdown",
   "metadata": {},
   "source": [
    "#### Exercise 3\n",
    "Consider the following random variables,  𝑋∼𝑁(𝜇=2;𝜎=5)  and  𝑌∼𝐵𝑖𝑛(𝑛=8;𝑝=0.75) . Compute the following:\n",
    "\n",
    "𝑃(−2≤𝑋<5)= ?\n",
    "𝑃(𝑋>𝑐)=0.9 , find the value of c.\n",
    "𝑃(𝑌=3)= ?\n",
    "𝑃(𝑌≥6)= ?"
   ]
  },
  {
   "cell_type": "markdown",
   "metadata": {},
   "source": [
    "Altough we could do it without standaring the variables, we will standarize them any way, so that the process is clearer.\n",
    "\n",
    "Then, after importing the functions of norm, binom and bernoulli, we can reduce this problem to call this functions to directly calculate the probabilities asked, since it is already specified that X follows a normal distribution and Y a binomial."
   ]
  },
  {
   "cell_type": "code",
   "execution_count": 10,
   "metadata": {},
   "outputs": [
    {
     "name": "stdout",
     "output_type": "stream",
     "text": [
      "P[-2≤X<5] = P[-0.8≤Z<0.6] = 1 - P[Z<0.8] + P[Z<0.6]=  0.5139\n"
     ]
    }
   ],
   "source": [
    "from scipy.stats import bernoulli, binom, norm\n",
    "\n",
    "mu = 2\n",
    "sigma = 5\n",
    "x2 = -2\n",
    "x5 = 5\n",
    "\n",
    "z1 = (x2-mu)/sigma\n",
    "z2 = (x5-mu)/sigma\n",
    "\n",
    "z1 = abs(z1)\n",
    "#z1 = -0.8\n",
    "#z2 = 0.6\n",
    "\n",
    "P = norm.cdf(0.6, 0, 1) + norm.cdf(0.8, 0, 1) - 1\n",
    "P = round(P, 4)\n",
    "\n",
    "print(\"P[-2≤X<5] = P[-0.8≤Z<0.6] = 1 - P[Z<0.8] + P[Z<0.6]= \",P)\n"
   ]
  },
  {
   "cell_type": "code",
   "execution_count": 11,
   "metadata": {},
   "outputs": [
    {
     "name": "stdout",
     "output_type": "stream",
     "text": [
      "P[X>c] = 1 - P[X<c] = 0.9\n",
      "The value we are looking for is: c = 8.4078\n"
     ]
    }
   ],
   "source": [
    "p = 0.9\n",
    "\n",
    "cZ= norm.ppf(0.9, 0, 1) \n",
    "c = 5*cZ+2\n",
    "c = round(c, 4)\n",
    "\n",
    "print(\"P[X>c] = 1 - P[X<c] = 0.9\")\n",
    "print(\"The value we are looking for is: c = \"+ str(c))"
   ]
  },
  {
   "cell_type": "code",
   "execution_count": 12,
   "metadata": {},
   "outputs": [
    {
     "name": "stdout",
     "output_type": "stream",
     "text": [
      "Y=Bin(n=8,p=0.75)\n",
      "P[X=3] =  0.0231\n",
      "P[𝑌≥6] = P[Y=6] + P[Y=7] + P[Y=8] = 0.6785\n"
     ]
    }
   ],
   "source": [
    "print (\"Y=Bin(n=8,p=0.75)\")\n",
    "print(\"P[X=3] = \",round(binom.pmf(3,n=8, p=0.75), 4))   \n",
    "\n",
    "p6 = binom.pmf(6, n=8, p=0.75)+binom.pmf(7, n=8, p=0.75)+binom.pmf(8, n=8, p=0.75)\n",
    "p6 = round(p6, 4)\n",
    "\n",
    "print(\"P[𝑌≥6] = P[Y=6] + P[Y=7] + P[Y=8] = \"+str(p6))"
   ]
  },
  {
   "cell_type": "markdown",
   "metadata": {},
   "source": [
    "### Exercise 4: \n",
    "A fair coin is tossed 1000 times,\n",
    "\n",
    "1. What is the exact probability of obtaining at least 485 heads?\n",
    "2. Provide an approximation of the answer to part a) by means of a normal distribution.\n",
    "3. Simulate 1000 experiments consisting on tossing 1000 coins. In how may of those\n",
    "experiments at least 485 heads were obtained?"
   ]
  },
  {
   "cell_type": "markdown",
   "metadata": {},
   "source": [
    "#### Solution:\n",
    "\n",
    "\n",
    "##### Part 1\n",
    "\n",
    "The two possible outcomes of the experiment are discrete, so what we have here is a discrete random variable which can either take the value of \"heads\" (1) or \"tails\" (0).\n",
    "\n",
    "It is also a Bernoulli experiment, so we can apply:\n",
    "\n",
    "$$X ∼ B(n,p)$$\n",
    "\n",
    "with $n=1000$ and $p=0.5$, considering $X$ as the random variable that describes the number of successes (heads) out of the $n$ repetitions of the experiment.\n",
    "\n",
    "Therefore, we can apply the Binomial Distribution model with:\n",
    "\n",
    "$$P[X \\geq x]=\\sum^{n}_{i=x}P[X=i]=\\sum^{n}_{i=x} \\binom{n}{i}p^i(1-p)^{n-i}$$\n",
    "\n",
    "where $x=485$, $n=1000$ and $p=0.5$.\n",
    "\n",
    "In python, we can just use the functions <code>binom.cdf(x, n, p)</code> and <code>binom.pmf(x, n, p)</code>, where:\n",
    "\n",
    "$$P[X \\geq x]=1-P[X < x]=1-P[X \\leq x] + P[X=x]$$\n"
   ]
  },
  {
   "cell_type": "code",
   "execution_count": 13,
   "metadata": {},
   "outputs": [],
   "source": [
    "from scipy.stats import bernoulli, binom, norm"
   ]
  },
  {
   "cell_type": "code",
   "execution_count": 14,
   "metadata": {},
   "outputs": [
    {
     "name": "stdout",
     "output_type": "stream",
     "text": [
      "P[X ≥ 485] =  0.836532\n"
     ]
    }
   ],
   "source": [
    "#using binom function from scipy.stats\n",
    "n = 1000   #total number of experiments\n",
    "x = 485    #minimum number of successes\n",
    "p = 0.5    #probability of success\n",
    "\n",
    "prob = 1 - binom.cdf(x, n, p) + binom.pmf(x, n, p)   #P[X≥x]=1−P[X≤x]+P[X=x]\n",
    "\n",
    "print(\"P[X ≥ 485] = \",round(prob, 6))"
   ]
  },
  {
   "cell_type": "markdown",
   "metadata": {},
   "source": [
    "We can also plot the probability mass function:"
   ]
  },
  {
   "cell_type": "code",
   "execution_count": 15,
   "metadata": {},
   "outputs": [
    {
     "data": {
      "image/png": "[encoded data removed]",
      "text/plain": [
       "<Figure size 432x288 with 1 Axes>"
      ]
     },
     "metadata": {
      "needs_background": "light"
     },
     "output_type": "display_data"
    }
   ],
   "source": [
    "x_values = []\n",
    "\n",
    "for i in range(n):\n",
    "    x_values.extend([i+1])\n",
    "\n",
    "plt.stem(x_values,binom.pmf(x_values, n, p = 0.5))\n",
    "plt.xlim([0,n+1])\n",
    "plt.ylim([0,0.04])\n",
    "plt.xlabel('Number of \"heads\" outcomes', fontsize = 18)\n",
    "plt.ylabel('Probability', fontsize = 18)\n",
    "plt.show()\n",
    "\n"
   ]
  },
  {
   "cell_type": "markdown",
   "metadata": {},
   "source": [
    "And the cumulative distribution function:"
   ]
  },
  {
   "cell_type": "code",
   "execution_count": 16,
   "metadata": {},
   "outputs": [
    {
     "data": {
      "image/png": "[encoded data removed]",
      "text/plain": [
       "<Figure size 432x288 with 1 Axes>"
      ]
     },
     "metadata": {
      "needs_background": "light"
     },
     "output_type": "display_data"
    }
   ],
   "source": [
    "plt.stem(x_values,binom.cdf(x_values, n, p = 0.5))\n",
    "plt.xlim([0,n+1])\n",
    "plt.ylim([0,1.1])\n",
    "plt.xlabel('Number of \"heads\" outcomes', fontsize = 18)\n",
    "plt.ylabel('Cumulative Probability', fontsize = 18)\n",
    "plt.show()"
   ]
  },
  {
   "cell_type": "markdown",
   "metadata": {},
   "source": [
    "##### Part 2\n",
    "\n",
    "We can approximate the value of the probability by using the a normal distribution $X ∼ N(\\mu,\\sigma)$, where $\\mu = E[X]$ and $\\sigma^2=V[X]$:\n",
    "\n",
    "$$\\mu=E[X]=\\sum_{i=0}^n x_iP(X=x_i)$$\n",
    "$$\\sigma = \\sqrt{V[X]}=\\sqrt{E[(X-E[X])^2]}= \\sqrt{\\sum_{i=0}^n(x_i-E[X])^2P[X=x_i]}$$"
   ]
  },
  {
   "cell_type": "code",
   "execution_count": 17,
   "metadata": {},
   "outputs": [
    {
     "name": "stdout",
     "output_type": "stream",
     "text": [
      "X ∼ N(μ, σ), where μ =  500.0  and σ =  15.811388\n"
     ]
    }
   ],
   "source": [
    "mu = 0\n",
    "sigma = 0\n",
    "variance = 0\n",
    "\n",
    "for i in range(n + 1):\n",
    "    mu += i*binom.pmf(i, n, p)\n",
    "\n",
    "for i in range(n + 1):\n",
    "    variance += (i - mu)**2*binom.pmf(i, n, p)\n",
    "sigma = np.sqrt(variance)\n",
    "\n",
    "print(\"X ∼ N(μ, σ), where μ = \", round(mu, 6), \" and σ = \", round(sigma, 6))"
   ]
  },
  {
   "cell_type": "markdown",
   "metadata": {},
   "source": [
    "If we standardize the distribution, using $Z=\\frac{X-\\mu}{\\sigma} ∼ N(0,1)$, we can obtain the approximated probability by computing:\n",
    "\n",
    "$$P[X\\geq x]=P\\left[\\frac{X-\\mu}{\\sigma} \\geq \\frac{x-\\mu}{\\sigma}\\right]=P[Z \\geq z]=P[Z \\leq -z]$$\n",
    "\n",
    "We can use the function <code>norm.cdf()</code> to get the value of cumulative normal standard distribution function at $-z$."
   ]
  },
  {
   "cell_type": "code",
   "execution_count": 18,
   "metadata": {},
   "outputs": [
    {
     "name": "stdout",
     "output_type": "stream",
     "text": [
      "The approximation using the normal distribution is: P[X ≥ x] ≈ 0.828609\n"
     ]
    }
   ],
   "source": [
    "normal_prob = norm.cdf(-(x-mu)/sigma)\n",
    "\n",
    "print(\"The approximation using the normal distribution is: P[X ≥ x] ≈\", round(normal_prob,6))"
   ]
  },
  {
   "cell_type": "markdown",
   "metadata": {},
   "source": [
    "Below we can see the plots of $X ∼ N(\\mu,\\sigma)$ and $Z ∼ N(0,1)$."
   ]
  },
  {
   "cell_type": "code",
   "execution_count": 19,
   "metadata": {},
   "outputs": [
    {
     "data": {
      "image/png": "[encoded data removed]",
      "text/plain": [
       "<Figure size 576x360 with 1 Axes>"
      ]
     },
     "metadata": {
      "needs_background": "light"
     },
     "output_type": "display_data"
    },
    {
     "data": {
      "image/png": "[encoded data removed]",
      "text/plain": [
       "<Figure size 576x360 with 1 Axes>"
      ]
     },
     "metadata": {
      "needs_background": "light"
     },
     "output_type": "display_data"
    }
   ],
   "source": [
    "plt.figure(figsize=(8,5))\n",
    "\n",
    "x = np.linspace(norm.ppf(0.001), norm.ppf(0.999,mu,sigma), 1000)\n",
    "plt.plot(x, norm.pdf(x,mu,sigma),'g--', lw=1, alpha=0.6, label=f'N(μ = {round(mu,2)},σ = {round(sigma,2)}) PDF')\n",
    "\n",
    "plt.legend(loc=\"upper right\")\n",
    "plt.ylim([0,0.03])\n",
    "plt.xlim([400,600])\n",
    "#plt.grid()\n",
    "plt.show()\n",
    "\n",
    "\n",
    "plt.figure(figsize=(8,5))\n",
    "\n",
    "x = np.linspace(norm.ppf(0.001), norm.ppf(0.999,0,1), 100)\n",
    "plt.plot(x, norm.pdf(x,0,1),'b-', lw=1, alpha=0.6, label='N(μ = 0, σ = 1) PDF')\n",
    "\n",
    "plt.legend(loc=\"upper right\")\n",
    "plt.ylim([0,0.5])\n",
    "plt.xlim([-3,3])\n",
    "#plt.grid()\n",
    "plt.show()"
   ]
  },
  {
   "cell_type": "markdown",
   "metadata": {},
   "source": [
    "##### Part 3"
   ]
  },
  {
   "cell_type": "code",
   "execution_count": 20,
   "metadata": {},
   "outputs": [
    {
     "name": "stdout",
     "output_type": "stream",
     "text": [
      "Done\n"
     ]
    }
   ],
   "source": [
    "#generate simulated experiment\n",
    "experiments = 1000  #number of experiment\n",
    "n = 1000            #number of coin tosses per experiment\n",
    "p = 0.5             #probability of \"heads\"\n",
    "\n",
    "#we can randomly generate the coin tosses:\n",
    "experiment_results = np.zeros((experiments, n))# create matrix to store results\n",
    "\n",
    "def toss(p,experiments,n):\n",
    "    for k in range(0,experiments):\n",
    "        for i in range(0,n):\n",
    "            experiment_results[k,i] = np.random.binomial(1,p) # 0=tails; 1=heads\n",
    "    return experiment_results\n",
    "\n",
    "experiment_results = toss(p,experiments,n)\n",
    "\n",
    "#print(experiment_results)\n",
    "print(\"Done\")"
   ]
  },
  {
   "cell_type": "code",
   "execution_count": 21,
   "metadata": {},
   "outputs": [
    {
     "name": "stdout",
     "output_type": "stream",
     "text": [
      "Done\n"
     ]
    }
   ],
   "source": [
    "#count the number of heads in each experiment\n",
    "heads = np.zeros((experiments, 1))#create a matrix to store number of heads per experiment\n",
    "\n",
    "def headsCount(experiment_results,experiments,n):\n",
    "    for k in range(0,experiments):\n",
    "        for i in range(0,n):\n",
    "            heads[k,0]+=experiment_results[k,i]\n",
    "    return heads\n",
    "\n",
    "heads = headsCount(experiment_results,experiments,n)\n",
    "  \n",
    "#print(heads)\n",
    "\n",
    "print(\"Done\")"
   ]
  },
  {
   "cell_type": "code",
   "execution_count": 22,
   "metadata": {},
   "outputs": [
    {
     "name": "stdout",
     "output_type": "stream",
     "text": [
      "The number of experiments with at least 485 heads results are: 839\n"
     ]
    },
    {
     "data": {
      "image/png": "[encoded data removed]",
      "text/plain": [
       "<Figure size 576x360 with 1 Axes>"
      ]
     },
     "metadata": {
      "needs_background": "light"
     },
     "output_type": "display_data"
    },
    {
     "name": "stdout",
     "output_type": "stream",
     "text": [
      "                       Theoretical Probability = 0.837\n",
      "Approximated Probability (normal distribution) = 0.829\n",
      "                         Simulated Probability = 0.839\n"
     ]
    }
   ],
   "source": [
    "#select experiments such that the number of heads is at least 485 and create graph\n",
    "cum_sum=np.cumsum(heads>=485) #accumulated sum (create a matrix with the accumulated sum in each entry up to that point)\n",
    "print(\"The number of experiments with at least 485 heads results are:\",cum_sum[experiments-1])\n",
    "cum_mean=cum_sum/(np.arange(experiments)+1) #relative frequency (divide each accumulated sum value by the number of samples accumulated)\n",
    "plt.figure(figsize=(8,5))\n",
    "plt.plot(cum_mean,'b-', linewidth = 2.0,label='Relative Frequency')\n",
    "plt.axhline(0.836532, color='red', linewidth = 1.0,label='Theoretical Probability')\n",
    "plt.xlabel('Number of Simulations', fontsize = 18)\n",
    "plt.ylabel('Relative Frequency', fontsize = 18)\n",
    "plt.axis([0, experiments, 0, 1])\n",
    "plt.legend()\n",
    "plt.show()\n",
    "#\n",
    "p_simul=cum_mean[experiments-1]\n",
    "print ('                       Theoretical Probability =', round(prob,3))\n",
    "print ('Approximated Probability (normal distribution) =', round(normal_prob,3))\n",
    "print ('                         Simulated Probability =',round(p_simul,3))"
   ]
  },
  {
   "cell_type": "markdown",
   "metadata": {},
   "source": [
    "##### Comments\n",
    "\n",
    "In part a, we have calculated the theoretical value of the probability of our chosen event. Using this vaule of the probability as reference, we can see that the probability approximated by the normal model in part b is not very far off, but it is not exact. It has an error of 0.008. This difference is due to the fact that the normal model is actually meant for continuous random variables, whereas here we have a discrete random variable. Hence, the method is inexact and can only be considered valid as an approximation. At the same time, it is very useful because it offers a simple and non calculation-heavy method of estimating probabilities with considerable exactness.\n",
    "\n",
    "Last of all, we can see that the simulated probability is also quite close to the real value, but it is often even further off than the normal approximation. Usually, the simulation presents an error of around 0.03. We would need more simulations in order to have a more exact result. \n",
    "\n",
    "In order to see the comparison between the normal distribution and the binomial model in a graphical way, we can plot them together like this:"
   ]
  },
  {
   "cell_type": "code",
   "execution_count": 23,
   "metadata": {
    "scrolled": true
   },
   "outputs": [
    {
     "data": {
      "image/png": "[encoded data removed]",
      "text/plain": [
       "<Figure size 720x504 with 1 Axes>"
      ]
     },
     "metadata": {
      "needs_background": "light"
     },
     "output_type": "display_data"
    }
   ],
   "source": [
    "#plot random generation\n",
    "plt.figure(figsize=(10,7))\n",
    "\n",
    "\n",
    "r = norm(mu,sigma).rvs(size=1000) #random generation non standard normal\n",
    "plt.hist(r,histtype='stepfilled', color='g', alpha=0.3, \n",
    "         bins=40,density=True,label='N(mu=1,sigma=1.5) random generation ')\n",
    "\n",
    "x = np.linspace(norm.ppf(0.001), norm.ppf(0.999,mu,sigma), 1000)\n",
    "plt.plot(x, norm.pdf(x,mu,sigma),'g--', lw=1, alpha=0.6, label=f'N(μ = {round(mu,2)},σ = {round(sigma,2)}) PDF')\n",
    "\n",
    "\n",
    "plt.ylim([0,0.04])\n",
    "plt.xlim([400,600])\n",
    "#plt.grid()\n",
    "plt.legend(loc=\"upper right\")\n",
    "plt.show()"
   ]
  },
  {
   "cell_type": "markdown",
   "metadata": {},
   "source": [
    "### Exercise 5:\n",
    "A supplier ships a lot of 100000 electrical connectors. Assume the lot contains 25000 defective connectors.  A sample of 10 is selected at random, without replacement. \n",
    "1. Using the binomial model, what is the probability that there are more than 3 defective connectors in the sample?\n",
    "2. Use the normal approximation given by CLT to answer the result in part (a). Is the approximation satisfactory?\n",
    "3. Redo parts 1. and 2. assuming the sample size is 10000 and that we want to compute the probability that there are more than 2550 defective connectors. Is the approximation satisfactory?\n"
   ]
  },
  {
   "cell_type": "markdown",
   "metadata": {},
   "source": [
    "#### Solution\n",
    "\n",
    "##### Part 1\n",
    "\n",
    "First of all, we can determine the probability of a connector being defective:\n",
    "\n",
    "$$p=\\frac{25000}{100000}=0.25$$\n",
    "\n",
    "Using the binomial model, where $X$ is the random variable that measures the number of defective connectors in a sample of $n=10$ connectors and $x=3$:\n",
    "\n",
    "$$P[X > x]=\\sum^{n}_{i=x+1}P[X=i]=\\sum^{n}_{i=x+1} \\binom{n}{i}p^i(1-p)^{n-i}$$\n",
    "\n",
    "In python, we can use the function <code>binom.cdf(x, n, p)</code>, where:\n",
    "\n",
    "$$P[X > x]=1-P[X \\leq x]$$\n",
    "\n"
   ]
  },
  {
   "cell_type": "code",
   "execution_count": 24,
   "metadata": {},
   "outputs": [
    {
     "name": "stdout",
     "output_type": "stream",
     "text": [
      "P[X > 3] = 0.224125 (exact probability)\n"
     ]
    }
   ],
   "source": [
    "x = 3\n",
    "n = 10\n",
    "p = 0.25\n",
    "\n",
    "prob = 1 - binom.cdf(x,n,p)\n",
    "\n",
    "print(\"P[X > 3] =\", round(prob,6),\"(exact probability)\")"
   ]
  },
  {
   "cell_type": "markdown",
   "metadata": {},
   "source": [
    "##### Part 2\n",
    "\n",
    "We can use the CLT to do a binomial approximation:\n",
    "\n",
    "$$B(n,p) ∼ N\\left(np, \\sqrt{np(1-p)}\\right)$$\n",
    "\n",
    "where $n=10$ and $p=0.25$.\n",
    "\n",
    "Then, if we standardize:\n",
    "\n",
    "$$Z=\\frac{X-np}{\\sqrt{np(1-p)}}∼N[0,1]$$\n",
    "\n",
    "\n",
    "However, as we are using python, we can skip the standarization and calculate the probability from $N\\left(np, \\sqrt{np(1-p)}\\right)$ using the function <code>norm.cdf(x,μ,σ)</code>."
   ]
  },
  {
   "cell_type": "code",
   "execution_count": 25,
   "metadata": {},
   "outputs": [
    {
     "name": "stdout",
     "output_type": "stream",
     "text": [
      "P[X > 3] = 0.3575 (approximated probability)\n"
     ]
    }
   ],
   "source": [
    "z=(x-n*p)/(np.sqrt(n*p*(1-p)))\n",
    "\n",
    "a = 1-norm.cdf(x,n*p,np.sqrt(n*p*(1-p)))  #without standardizing\n",
    "b = 1-norm.cdf(z,0,1)                     #standardizing\n",
    "#both a and b give the same result\n",
    "\n",
    "#print(a,b)\n",
    "\n",
    "print(\"P[X > 3] =\", round(a,6),\"(approximated probability)\")"
   ]
  },
  {
   "cell_type": "markdown",
   "metadata": {},
   "source": [
    "##### Part 3\n",
    "\n",
    "First of all, the probability of a connector being defective is the same as the initial one:\n",
    "\n",
    "$$p=\\frac{25000}{100000}=0.25$$\n",
    "\n",
    "Using the binomial model, where $X$ is the random variable that measures the number of defective connectors in a sample of $n=10000$ connectors and $x=2550$:\n",
    "\n",
    "$$P[X > x]=\\sum^{n}_{i=x+1}P[X=i]=\\sum^{n}_{i=x+1} \\binom{n}{i}p^i(1-p)^{n-i}$$\n",
    "\n",
    "In python, we can use the function <code>binom.cdf(x, n, p)</code>, where:\n",
    "\n",
    "$$P[X > x]=1-P[X \\leq x]$$"
   ]
  },
  {
   "cell_type": "code",
   "execution_count": 26,
   "metadata": {},
   "outputs": [
    {
     "name": "stdout",
     "output_type": "stream",
     "text": [
      "P[X > 2550] = 0.121895 (exact probability)\n"
     ]
    }
   ],
   "source": [
    "x = 2550\n",
    "n = 10000\n",
    "p = 0.25\n",
    "\n",
    "prob = 1 - binom.cdf(x,n,p)\n",
    "\n",
    "print(\"P[X > 2550] =\", round(prob,6),\"(exact probability)\")"
   ]
  },
  {
   "cell_type": "markdown",
   "metadata": {},
   "source": [
    "We can use the CLT to do a binomial approximation:\n",
    "\n",
    "$$B(n,p) ∼ N\\left(np, \\sqrt{np(1-p)}\\right)$$\n",
    "\n",
    "where $n=10000$ and $p=0.25$.\n",
    "\n",
    "Then, if we standardize:\n",
    "\n",
    "$$Z=\\frac{X-np}{\\sqrt{np(1-p)}}∼N[0,1]$$\n",
    "\n",
    "\n",
    "As before, we are using python, so we can skip the standarization and calculate the probability from $N\\left(np, \\sqrt{np(1-p)}\\right)$ using the function <code>norm.cdf(x,μ,σ)</code>."
   ]
  },
  {
   "cell_type": "code",
   "execution_count": 27,
   "metadata": {},
   "outputs": [
    {
     "name": "stdout",
     "output_type": "stream",
     "text": [
      "P[X > 3] = 0.124107 (approximated probability)\n"
     ]
    }
   ],
   "source": [
    "z=(x-n*p)/(np.sqrt(n*p*(1-p)))\n",
    "\n",
    "a = 1-norm.cdf(x,n*p,np.sqrt(n*p*(1-p)))  #without standardizing\n",
    "b = 1-norm.cdf(z,0,1)                     #standardizing\n",
    "#both a and b give the same result\n",
    "\n",
    "#print(a,b)\n",
    "\n",
    "print(\"P[X > 3] =\", round(a,6),\"(approximated probability)\")"
   ]
  },
  {
   "cell_type": "code",
   "execution_count": null,
   "metadata": {},
   "outputs": [],
   "source": []
  }
 ],
 "metadata": {
  "kernelspec": {
   "display_name": "Python 3",
   "language": "python",
   "name": "python3"
  },
  "language_info": {
   "codemirror_mode": {
    "name": "ipython",
    "version": 3
   },
   "file_extension": ".py",
   "mimetype": "text/x-python",
   "name": "python",
   "nbconvert_exporter": "python",
   "pygments_lexer": "ipython3",
   "version": "3.8.5"
  }
 },
 "nbformat": 4,
 "nbformat_minor": 4
}
