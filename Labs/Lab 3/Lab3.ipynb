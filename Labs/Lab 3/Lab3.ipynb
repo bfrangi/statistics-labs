{
 "cells": [
  {
   "cell_type": "code",
   "execution_count": 95,
   "metadata": {},
   "outputs": [],
   "source": [
    "from scipy.stats import norm, chi2, t\n",
    "import numpy as np\n",
    "import matplotlib.pyplot as plt"
   ]
  },
  {
   "cell_type": "markdown",
   "metadata": {},
   "source": [
    "# Topic 6"
   ]
  },
  {
   "cell_type": "markdown",
   "metadata": {},
   "source": [
    "#### Question 6\n",
    "The wall thickness of $25$ glass $2$-liter bottles was measured by a quality-control engineer. The sample\n",
    "mean was $\\overline{x} = 4.05$ millimeters, and the sample standard deviation was $s = 0.08$ millimeter. Find\n",
    "a $95\\%$ lower confidence bound for mean wall thickness. Interpret the interval you have obtained."
   ]
  },
  {
   "cell_type": "markdown",
   "metadata": {},
   "source": [
    "#### Solution\n",
    "\n",
    "$$\\mbox{CI}_{1-\\alpha}(\\mu) = \\left(\\bar{x}-z_{\\alpha/2}\\frac{s}{\\sqrt{n}},\\infty\\right)$$\n",
    "where $z\\sim N(0,1)$"
   ]
  },
  {
   "cell_type": "markdown",
   "metadata": {},
   "source": [
    "We know the sample mean ($4.05$ ml.), and the standard deviation of theese measurements ($0.08$ ml.)\n",
    "Since $25$ is a large enough number, we can compute the CI with the formula above (with normal distribution) because of the Central Limit Theorem, instead of having to use the same with a $t$-student distributiuon."
   ]
  },
  {
   "cell_type": "code",
   "execution_count": 96,
   "metadata": {},
   "outputs": [
    {
     "name": "stdout",
     "output_type": "stream",
     "text": [
      "(4.02, ∞)\n"
     ]
    }
   ],
   "source": [
    "alpha = 0.05 #significance level\n",
    "mean = 4.05\n",
    "z = norm.ppf(1 - alpha/2,0,1)\n",
    "\n",
    "interval = z*(0.08)/5\n",
    "CI = (round(mean-interval, 2), \"∞\")\n",
    "print(\"(\"+str(CI[0])+\", \"+str(CI[1])+\")\")"
   ]
  },
  {
   "cell_type": "markdown",
   "metadata": {},
   "source": [
    "#### Question 8\n",
    "In a random sample of $85$ automobile engine crankshaft bearings, $10$ have a surface finish that is rougher than the specifications allow. Therefore, a point estimate of the proportion of bearings in the population that exceeds the roughness specification is $\\hat{p} = 0.12$.\n",
    "\n",
    "a) Find a $95\\%$ two-sided confidence interval for $p$.\n",
    "    \n",
    "b) How large a sample is required if we want to be 95% confident that the error in using to estimate $p$ is less than $0.05$?"
   ]
  },
  {
   "cell_type": "markdown",
   "metadata": {},
   "source": [
    "#### Solution\n",
    "\n",
    "##### Part a\n",
    "\n",
    "$n=85$ is sufficiently large so that we can approximate it with a standard normal after standardization. Then:\n",
    "\n",
    "$$Z=\\frac{X-np}{\\sqrt{np(1-p)}}=\\frac{\\hat{P}-p}{\\sqrt{\\frac{p(1-p)}{n}}}$$\n",
    "\n",
    "is standard normal.\n",
    "\n",
    "Then, to construct the confidence interval on $p$, we have:\n",
    "\n",
    "$$P(-z_{\\alpha/2}\\leq Z \\leq z_{\\alpha/2}) \\approx 1- \\alpha$$\n",
    "\n",
    "Then:\n",
    "\n",
    "$$P\\left(-z_{\\alpha/2}\\leq \\frac{\\hat{P}-p}{\\sqrt{\\frac{p(1-p)}{n}}} \\leq z_{\\alpha/2}\\right) \\approx 1- \\alpha$$\n",
    "\n",
    "which can be rearranged as:\n",
    "\n",
    "$$P\\left(\\hat{P}-z_{\\alpha/2}\\cdot \\sqrt{\\frac{p(1-p)}{n}} \\leq p \\leq \\hat{P}+z_{\\alpha/2} \\cdot \\sqrt{\\frac{p(1-p)}{n}} \\right) \\approx 1- \\alpha$$\n",
    "\n",
    "We now have an unknown parameter $p$ in the limits of the confidence interval, but we can replace it with $\\hat{P}$, so:\n",
    "\n",
    "$$P\\left(\\hat{P}-z_{\\alpha/2}\\cdot \\sqrt{\\frac{\\hat{P}(1-\\hat{P})}{n}} \\leq p \\leq \\hat{P}+z_{\\alpha/2} \\cdot \\sqrt{\\frac{\\hat{P}(1-\\hat{P})}{n}} \\right) \\approx 1- \\alpha$$\n",
    "\n",
    "which leads to the approximate $100(1-\\alpha)\\%$ confidence interval on $p$.\n",
    "\n",
    "In our case, the confidence interval is:\n",
    "\n",
    "$$\\left(\\hat{p}-z_{\\alpha/2}\\cdot \\sqrt{\\frac{\\hat{p}(1-\\hat{p})}{n}} \\leq p \\leq \\hat{p}+z_{\\alpha/2} \\cdot \\sqrt{\\frac{\\hat{p}(1-\\hat{p})}{n}} \\right)$$\n",
    "\n",
    "with $\\hat{p}=\\frac{10}{85}\\approx 0.12$\n",
    "\n",
    "We can now use python to help with the calculations:"
   ]
  },
  {
   "cell_type": "code",
   "execution_count": 97,
   "metadata": {},
   "outputs": [
    {
     "name": "stdout",
     "output_type": "stream",
     "text": [
      "The confidence interval is: (0.05, 0.19)\n"
     ]
    }
   ],
   "source": [
    "confidence_percentage = 0.95\n",
    "alpha = 1 - confidence_percentage #significance level\n",
    "p_estimate = 0.12 #point estimate of p\n",
    "n = 85 #sample size\n",
    "\n",
    "L = p_estimate - (norm.ppf(confidence_percentage + alpha/2,0,1))*np.sqrt((p_estimate*(1-p_estimate))/n)\n",
    "H = p_estimate + (norm.ppf(confidence_percentage + alpha/2,0,1))*np.sqrt((p_estimate*(1-p_estimate))/n)\n",
    "\n",
    "print(\"The confidence interval is:\",\"(\"+str(round(L,2))+\", \"+str(round(H,2))+\")\")"
   ]
  },
  {
   "cell_type": "markdown",
   "metadata": {},
   "source": [
    "##### Part b\n",
    "\n",
    "$\\hat{P}$ is the point estimator of $p$. Then, we can define the error in the estimation as $E=\\mid p-\\hat{P}\\mid$. Because of the previous results, we can be approximately $100\\cdot (1-\\alpha)\\%$ confident that the error will not surpass $z_{\\alpha/2}\\cdot\\sqrt{\\frac{\\hat{p}(1-\\hat{p})}{n}}$.\n",
    "\n",
    "We need the error of $p$ to be at most $E=0.05$. Then, the limit case will be: \n",
    "\n",
    "$$z_{\\alpha/2}\\cdot\\sqrt{\\frac{\\hat{p}(1-\\hat{p})}{n}}=E=0.05$$\n",
    "\n",
    "where $\\alpha = 0.05$, because we are looking for a $95\\%$ confidence interval.\n",
    "\n",
    "Then, if we solve for $n$:\n",
    "\n",
    "$$n=\\left(\\frac{z_{\\alpha/2}}{E}\\right)^2 \\cdot \\hat{p} \\cdot (1-\\hat{p})$$\n",
    "\n",
    "We can now use python to help with the calculations:"
   ]
  },
  {
   "cell_type": "code",
   "execution_count": 98,
   "metadata": {},
   "outputs": [
    {
     "name": "stdout",
     "output_type": "stream",
     "text": [
      "The sample size should be: 162\n"
     ]
    }
   ],
   "source": [
    "confidence_percentage = 0.95\n",
    "alpha = 1 - confidence_percentage #significance level\n",
    "p_estimate = 0.12 #point estimate of p\n",
    "max_error = 0.05\n",
    "\n",
    "n = (norm.ppf(confidence_percentage + alpha/2,0,1)/max_error)**2*p_estimate*(1-p_estimate)\n",
    "\n",
    "print(\"The sample size should be:\",int(round(n,0)))"
   ]
  },
  {
   "cell_type": "markdown",
   "metadata": {},
   "source": [
    "# Topic 7"
   ]
  },
  {
   "cell_type": "markdown",
   "metadata": {},
   "source": [
    "#### Question 4\n",
    "\n",
    "One way to evaluate the effectiveness of a course instructor is to examine the scores achieved by his or her students in an examination at the end of the course. Obviously, the mean score is of interest. However, the variance also contains useful information - some teachers have a style that works very well with more able students but is unsuccessful with less able or poorly motivated students. A professor sets a standard examination at the end of each semester for all sections of a course. The variance of the scores on this test is typically very close to $300$. A new instructor has a class of thirty students, whose test scores had a sample quasi-variance of $480$. Regarding these students’ test scores as a random sample from a normal population:\n",
    "\n",
    "\n",
    "(a) At a $5\\%$ significance level, test against a two-sided alternative the null hypothesis that the population variance of their scores is $300$.\n",
    "\n",
    "(b) Based on your answer to $4a$, decide if a $95\\%$ confidence interval for the population variance would include the value of $300$.\n",
    "\n",
    "(c) Calculate the power of the test.\n",
    "\n",
    "(d) Draw the power function from $4c$ in $R$.\n",
    "\n",
    "(e) Looking at the graph from $4d$, what is the probability of Type II error for $\\sigma^2 = 500$ (roughly)?"
   ]
  },
  {
   "cell_type": "markdown",
   "metadata": {},
   "source": [
    "#### Solution\n",
    "##### Part a:\n",
    "\n",
    "We have to test, at $5\\%$ significance level ($\\alpha=0.05$), the following:\n",
    "\n",
    "$$H_0: \\sigma^2 = \\sigma^2_0$$\n",
    "$$H_1: \\sigma^2 \\neq \\sigma^2_0$$\n",
    "\n",
    "where $\\sigma^2_0=300$ and the sample is taken from a random variable $X$: Test Scores (normal population).\n",
    "\n",
    "##### Using Test Statistics:\n",
    "\n",
    "As we are testing for the population variance and the populaiton is normal, the test statistic is:\n",
    "\n",
    "$$\\frac{(n-1)s^2}{\\sigma_0^2}\\sim \\chi^2_{n-1}$$\n",
    "\n",
    "where $n=30$ (there are thirty students in the class) and the sample quasi-variance is $s^2=480$\n",
    "\n",
    "And our rejection region $RR\\alpha$ is (two-tail test):\n",
    "\n",
    "$$\\left\\{  \\chi^2 : \\frac{(n-1)s^2}{\\sigma_0^2}< \\chi^2_{n-1;1-\\alpha/2} \\right\\} \\cup \\left\\{  \\chi^2 : \\frac{(n-1)s^2}{\\sigma_0^2}> \\chi^2_{n-1;\\alpha/2} \\right\\}$$\n",
    "\n",
    "If the test statistic is in the rejection region, the null hypothesis will be rejected. We will fail to reject it otherwise. I order to perform the calculations, we wil use python:\n"
   ]
  },
  {
   "cell_type": "code",
   "execution_count": 99,
   "metadata": {},
   "outputs": [
    {
     "name": "stdout",
     "output_type": "stream",
     "text": [
      "The rejection region is: (-∞, 16.047) ∪ (45.722, ∞)\n",
      "The test statistic is: 46.4\n",
      "The test statistic is inside the rejection region: We have rejected Ho\n"
     ]
    },
    {
     "data": {
      "image/png": "[encoded data removed]",
      "text/plain": [
       "<Figure size 864x504 with 1 Axes>"
      ]
     },
     "metadata": {},
     "output_type": "display_data"
    }
   ],
   "source": [
    "n = 30 #sample size\n",
    "df = n - 1 #degrees of freedom\n",
    "s2 = 480 #sample quasi-variance\n",
    "sigma2_0 = 300 #typical variance\n",
    "test_stat = ((n-1)*s2)/sigma2_0 #test statistic\n",
    "alpha = 0.05 #significance level\n",
    "\n",
    "#calculations:\n",
    "right_tail = round(chi2.ppf(1 - alpha/2, df),3)\n",
    "left_tail = round(chi2.ppf(alpha/2, df),3)\n",
    "\n",
    "print(\"The rejection region is: (-∞, \"+str(left_tail)+\") ∪ (\"+str(right_tail)+\", ∞)\")\n",
    "print(\"The test statistic is:\",test_stat)\n",
    "\n",
    "if test_stat > right_tail or test_stat < left_tail:\n",
    "    print(\"The test statistic is inside the rejection region: We have rejected Ho\")\n",
    "else:\n",
    "    print(\"The test statistic is outside the rejection region: We have failed to reject Ho\")\n",
    "\n",
    "#graph:\n",
    "x = np.linspace(-1, 60, 1000)\n",
    "y = chi2.pdf(x, df, loc=0, scale=1)\n",
    "\n",
    "plt.style.use('seaborn-whitegrid')\n",
    "fig, ax = plt.subplots(figsize=(12, 7))\n",
    "\n",
    "plt.axvline(x=test_stat, c='k')\n",
    "\n",
    "ax.plot(x, y, c='black', label='Degrees of freedom = %d' % df)\n",
    "ax.set_xlabel('$\\chi^2$', fontsize=17)\n",
    "ax.set_ylabel(r'Probability', fontsize=17)\n",
    "ax.set_title(r'$\\chi^2\\ \\mathrm{Distribution}$, df = %d' % df, fontsize=17)\n",
    "ax.fill_between(x, 0, y, where=(np.array(x) > min(x)) & (np.array(x) <= left_tail), facecolor='tomato')\n",
    "ax.fill_between(x, 0, y, where=(np.array(x) > left_tail) & (np.array(x) < right_tail), facecolor='steelblue')\n",
    "ax.fill_between(x, 0, y, where=(np.array(x) > right_tail) & (np.array(x) <= max(x)), facecolor='tomato')\n",
    "ax.grid(False)\n",
    "\n",
    "ax.text(50, 0.008, '2.5% right tail', fontsize=13)\n",
    "ax.text(5, 0.008, '2.5% left tail', fontsize=13)\n",
    "ax.text(14, 0.015, '$\\chi^2_{.975} = %.2f$' % left_tail, fontsize=14, bbox=dict(boxstyle='round', facecolor='white'))\n",
    "ax.text(36, 0.015, '$\\chi^2_{.025} = %.2f$' % right_tail, fontsize=14, bbox=dict(boxstyle='round', facecolor='white'))\n",
    "ax.text(test_stat-6, 0.03, 'Test Statistic = %.2f' % test_stat, fontsize=14, bbox=dict(boxstyle='round', facecolor='white'))\n",
    "ax.text(20, 0.008, '95% confidence interval', fontsize=16)\n",
    "\n",
    "plt.show()\n"
   ]
  },
  {
   "cell_type": "markdown",
   "metadata": {},
   "source": [
    "###### Conclusion: \n",
    "\n",
    "The sample data has given enough evidence to reject the hypothesis that the population variance is 300"
   ]
  },
  {
   "cell_type": "markdown",
   "metadata": {},
   "source": [
    "##### Using Confidence Intervals:\n",
    "\n",
    "The random variable $X$ defined previously follows a normal distribution with parameter $s_X^2=300$ (typical variance). Then, we can define the pivotal quantity for $\\sigma_X^2$:\n",
    "\n",
    "$$\\frac{(n-1)s_X^2}{\\sigma_X^2}\\sim \\chi^2_{n-1}$$\n",
    "\n",
    "Then:\n",
    "\n",
    "$$P(\\chi^2_{n-1;\\text{ }\\alpha/2} < \\chi^2_{n-1} < \\chi^2_{n-1;\\text{ }\\alpha/2})=1-\\alpha$$\n",
    "\n",
    "$$P(\\chi^2_{n-1;\\text{ }\\alpha/2} < \\frac{(n-1)s_X^2}{\\sigma_X^2} < \\chi^2_{n-1;\\text{ }\\alpha/2})=1-\\alpha$$\n",
    "\n",
    "If we solve the inequality for $\\sigma_X^2$:\n",
    "\n",
    "$$\\chi^2_{n-1;\\text{ }1-\\alpha/2}< \\frac{(n-1)s_X^2}{\\sigma_X^2} < \\chi^2_{n-1;\\text{ }\\alpha/2}$$\n",
    "\n",
    "$$\\frac{1}{\\chi^2_{n-1;\\text{ }1-\\alpha/2}}> \\frac{\\sigma_X^2}{(n-1)s_X^2}>\\frac{1}{\\chi^2_{n-1;\\text{ }\\alpha/2}}$$\n",
    "\n",
    "$$\\frac{(n-1)s_X^2}{\\chi^2_{n-1;\\text{ }1-\\alpha/2}}> \\sigma_X^2 > \\frac{(n-1)s_X^2}{\\chi^2_{n-1;\\text{ }\\alpha/2}}$$\n",
    "\n",
    "and we obtain the confidence interval estimator:\n",
    "\n",
    "$$(T_1(\\underline{X}_n),T_2(\\underline{X}_n))=\\left(\\frac{(n-1)s_X^2}{\\chi^2_{n-1;\\text{ }\\alpha/2}},\\frac{(n-1)s_X^2}{\\chi^2_{n-1;\\text{ }1-\\alpha/2}}\\right)$$\n",
    "\n",
    "Then, the confidence interval is:\n",
    "\n",
    "$$CI_{1-\\alpha}(\\sigma_X^2)=\\left(\\frac{(n-1)s_x^2}{\\chi^2_{n-1;\\text{ }\\alpha/2}},\\frac{(n-1)s_x^2}{\\chi^2_{n-1;\\text{ }1-\\alpha/2}}\\right)$$\n",
    "\n",
    "Using python:"
   ]
  },
  {
   "cell_type": "code",
   "execution_count": 100,
   "metadata": {},
   "outputs": [
    {
     "name": "stdout",
     "output_type": "stream",
     "text": [
      "The confidence interval is: (304.447, 867.448)\n",
      "The variance 300 is in not the confidence interval: We have rejected Ho\n"
     ]
    }
   ],
   "source": [
    "n = 30 #sample size\n",
    "df = n - 1 #degrees of freedom\n",
    "s2_x = 480 #sample variance\n",
    "alpha = 0.05 #significance level\n",
    "tested_variance = 300 #variance we are testing\n",
    "\n",
    "lower_bound = round(((n-1)*s2_x)/chi2.ppf(1-alpha/2,df),3)\n",
    "upper_bound = round(((n-1)*s2_x)/chi2.ppf(alpha/2,df),3)\n",
    "\n",
    "print(\"The confidence interval is: (\"+str(lower_bound)+\", \"+str(upper_bound)+\")\")\n",
    "\n",
    "if lower_bound < tested_variance < upper_bound:\n",
    "    print(\"The variance\",tested_variance,\"is in the confidence interval: We have failed to reject Ho\")\n",
    "else:\n",
    "    print(\"The variance\",tested_variance,\"is in not the confidence interval: We have rejected Ho\")\n"
   ]
  },
  {
   "cell_type": "markdown",
   "metadata": {},
   "source": [
    "###### Conclusion: \n",
    "\n",
    "The sample data has given enough evidence to reject the hypothesis that the population variance is 300"
   ]
  },
  {
   "cell_type": "markdown",
   "metadata": {},
   "source": [
    "##### Using the p-value:\n",
    "\n",
    "We can compute the $p$-value as:\n",
    "\n",
    "$$\\mathrm{p-value}=2\\cdot P\\left(\\chi^2 > \\frac{(n-1)s^2}{\\sigma_0^2}\\right)$$\n",
    "\n",
    "If the p-value is smaller than $\\alpha$, we have enough evidence to reject the null hypothesis. Using python:\n"
   ]
  },
  {
   "cell_type": "code",
   "execution_count": 101,
   "metadata": {},
   "outputs": [
    {
     "name": "stdout",
     "output_type": "stream",
     "text": [
      "The p-value is 0.043\n",
      "The significance level is 0.05\n",
      "The p-value is smaller than 𝛼: We have rejected Ho\n"
     ]
    }
   ],
   "source": [
    "n = 30 #sample size\n",
    "df = n - 1 #degrees of freedom\n",
    "s2 = 480 #sample variance\n",
    "alpha = 0.05 #significance level\n",
    "sigma2_0 = 300 #typical variance\n",
    "\n",
    "bound = ((n-1)*s2)/sigma2_0\n",
    "p_value = 2*(1-chi2.cdf(bound,df))\n",
    "\n",
    "print(\"The p-value is\",round(p_value,3))\n",
    "print(\"The significance level is\",round(alpha,3))\n",
    "\n",
    "if p_value > alpha:\n",
    "    print(\"The p-value is larger than 𝛼: We have failed to reject Ho\")\n",
    "else:\n",
    "    print(\"The p-value is smaller than 𝛼: We have rejected Ho\")\n"
   ]
  },
  {
   "cell_type": "markdown",
   "metadata": {},
   "source": [
    "###### Conclusion: \n",
    "\n",
    "The sample data has given enough evidence to reject the hypothesis that the population variance is 300"
   ]
  },
  {
   "cell_type": "markdown",
   "metadata": {},
   "source": [
    "##### Part b\n",
    "\n",
    "A $95\\%$ confidence interval would not include the value of $300$ for the variance, as we have explicitly shown in part $a)$.\n"
   ]
  },
  {
   "cell_type": "markdown",
   "metadata": {},
   "source": [
    "##### Part c\n",
    "\n",
    "The power is the probability of rejecting the null hypothesis if it is false:\n",
    "\n",
    "$$\\mathrm{Power}= P (\\mathrm{reject}H_0 |H_1\\mathrm{ true})$$\n",
    "\n",
    "We reject $H_0$ when we are inside the rejection region, which is:\n",
    "\n",
    "$$RR\\alpha=\\left\\{\\frac{(n-1)s^2}{\\sigma_0^2}< \\chi^2_{n-1;1-\\alpha/2} \\right\\} \\cup \\left\\{\\frac{(n-1)s^2}{\\sigma_0^2}> \\chi^2_{n-1;\\alpha/2} \\right\\}=$$\n",
    "$$=\\left\\{{(n-1)s^2}< \\chi^2_{n-1;1-\\alpha/2}\\cdot \\sigma_0^2 \\right\\} \\cup \\left\\{{(n-1)s^2}> \\chi^2_{n-1;\\alpha/2} \\cdot \\sigma_0^2 \\right\\}$$\n",
    "\n",
    "Therefore, the power is (where $\\sigma_1^2 \\neq \\sigma_0^2$):\n",
    "\n",
    "$$\\mathrm{Power}= P (\\mathrm{reject}H_0 |H_1\\mathrm{ true})=P\\left.\\left(\\left\\{(n-1)s^2< \\chi^2_{n-1;1-\\alpha/2}\\cdot \\sigma_0^2 \\right\\} \\cup \\left\\{(n-1)s^2> \\chi^2_{n-1;\\alpha/2}\\cdot \\sigma_0^2 \\right\\}\\right| \\sigma^2 = \\sigma_1^2\\right)=$$\n",
    "\n",
    "$$=P\\left(\\left\\{\\frac{(n-1)s^2}{\\sigma_1^2}< \\chi^2_{n-1;1-\\alpha/2}\\cdot \\frac{\\sigma_0^2}{\\sigma_1^2} \\right\\} \\cup \\left\\{\\frac{(n-1)s^2}{\\sigma_1^2}> \\chi^2_{n-1;\\alpha/2}\\cdot \\frac{\\sigma_0^2}{\\sigma_1^2} \\right\\}\\right)=$$\n",
    "\n",
    "$$=P\\left(\\frac{(n-1)s^2}{\\sigma_1^2} \\in \\left(-\\infty,\\chi^2_{n-1;1-\\alpha/2}\\cdot \\frac{\\sigma_0^2}{\\sigma_1^2}\\right) \\cup \\left(\\chi^2_{n-1;\\alpha/2}\\cdot \\frac{\\sigma_0^2}{\\sigma_1^2},\\infty\\right)\\right)=$$\n",
    "\n",
    "$$=P\\left(\\frac{(n-1)s^2}{\\sigma_1^2}<\\chi^2_{n-1;1-\\alpha/2}\\cdot \\frac{\\sigma_0^2}{\\sigma_1^2}    \\right)+P\\left(\\frac{(n-1)s^2}{\\sigma_1^2}> \\chi^2_{n-1;\\alpha/2}\\cdot \\frac{\\sigma_0^2}{\\sigma_1^2}\\right)=$$\n",
    "\n",
    "$$=P\\left(\\chi^2_{n-1}<\\chi^2_{n-1;1-\\alpha/2}\\cdot \\frac{\\sigma_0^2}{\\sigma_1^2}    \\right)+P\\left(\\chi^2_{n-1}> \\chi^2_{n-1;\\alpha/2}\\cdot \\frac{\\sigma_0^2}{\\sigma_1^2}\\right)=$$\n",
    "\n",
    "$$=1+P\\left(\\chi^2_{n-1}<\\chi^2_{n-1;1-\\alpha/2}\\cdot \\frac{\\sigma_0^2}{\\sigma_1^2}\\right)-P\\left(\\chi^2_{n-1}< \\chi^2_{n-1;\\alpha/2}\\cdot \\frac{\\sigma_0^2}{\\sigma_1^2}\\right)$$\n",
    "\n",
    "We can use python to solve the rest:\n",
    "\n",
    "Finding $\\chi^2_{n-1;1-\\alpha/2}\\cdot \\sigma_0^2$:"
   ]
  },
  {
   "cell_type": "code",
   "execution_count": 102,
   "metadata": {},
   "outputs": [
    {
     "name": "stdout",
     "output_type": "stream",
     "text": [
      "4814.122\n"
     ]
    }
   ],
   "source": [
    "alpha = 0.05 #significance level\n",
    "sigma2_0 = 300 #typical variance\n",
    "n = 30 #sample size\n",
    "df = n - 1 #degrees of freedom\n",
    "\n",
    "a = chi2.ppf(alpha/2,df)*sigma2_0\n",
    "\n",
    "print(round(a,3))"
   ]
  },
  {
   "cell_type": "markdown",
   "metadata": {},
   "source": [
    "Finding $\\chi^2_{n-1;\\alpha/2}\\cdot \\sigma_0^2$:"
   ]
  },
  {
   "cell_type": "code",
   "execution_count": 103,
   "metadata": {},
   "outputs": [
    {
     "name": "stdout",
     "output_type": "stream",
     "text": [
      "13716.686\n"
     ]
    }
   ],
   "source": [
    "alpha = 0.05 #significance level\n",
    "sigma2_0 = 300 #typical variance\n",
    "n = 30 #sample size\n",
    "df = n - 1 #degrees of freedom\n",
    "\n",
    "b = chi2.ppf(1-alpha/2,df)*sigma2_0\n",
    "\n",
    "print(round(b,3))"
   ]
  },
  {
   "cell_type": "markdown",
   "metadata": {},
   "source": [
    "$$\\mathrm{Power}(\\sigma_1^2)=1+P\\left(\\chi^2_{n-1}<\\frac{4814.122}{\\sigma_1^2}\\right)-P\\left(\\chi^2_{n-1}< \\frac{13716.686}{\\sigma_1^2}\\right)=$$\n",
    "\n",
    "$$=1+F_{\\chi^2}\\left(\\frac{4814.122}{\\sigma_1^2}\\right)-F_{\\chi^2}\\left(\\frac{13716.686}{\\sigma_1^2}\\right)$$\n",
    "\n",
    "where $F_{\\chi^2}$ is the cdf of a $\\chi^2_{n−1}$ distribution."
   ]
  },
  {
   "cell_type": "markdown",
   "metadata": {},
   "source": [
    "##### Part d\n",
    "We know from the previous question that:\n",
    "\n",
    "$$\\mathrm{Power}=1+P\\left(\\chi^2_{n-1}<\\chi^2_{n-1;1-\\alpha/2}\\cdot \\frac{\\sigma_0^2}{\\sigma_1^2}\\right)-P\\left(\\chi^2_{n-1}< \\chi^2_{n-1;\\alpha/2}\\cdot \\frac{\\sigma_0^2}{\\sigma_1^2}\\right)$$\n",
    "\n",
    "We can use python to plot the power of the test as a function of $\\sigma_1^2$:"
   ]
  },
  {
   "cell_type": "code",
   "execution_count": 104,
   "metadata": {},
   "outputs": [
    {
     "data": {
      "image/png": "[encoded data removed]",
      "text/plain": [
       "<Figure size 864x504 with 1 Axes>"
      ]
     },
     "metadata": {},
     "output_type": "display_data"
    }
   ],
   "source": [
    "alpha = 0.05 #significance level\n",
    "sigma2_0 = 300 #typical variance\n",
    "n = 30 #sample size\n",
    "df = n - 1 #degrees of freedom\n",
    "values = [] #create an empty list to append the values of sigma2_1 and the corresponding power\n",
    "\n",
    "#iterate over values of sigma2_1 ranging from 50 to 1000:\n",
    "for sigma2_1 in range(50,1000):\n",
    "    top_bound = chi2.ppf(1-alpha/2,df)*sigma2_0/sigma2_1 #compute the upper bound for chi2_{n-1}\n",
    "    bottom_bound = chi2.ppf(alpha/2,df)*sigma2_0/sigma2_1 #compute the lower bound for chi2_{n-1}\n",
    "    \n",
    "    power = chi2.cdf(bottom_bound,df)+1-chi2.cdf(top_bound,df) #compute the power\n",
    "    \n",
    "    values.append([sigma2_1,power]) #append the values to the list\n",
    "    \n",
    "#generate graph:\n",
    "x = [value[0] for value in values]\n",
    "y = [value[1] for value in values]\n",
    "\n",
    "plt.style.use('seaborn-whitegrid')\n",
    "fig, ax = plt.subplots(figsize=(12, 7))\n",
    "\n",
    "ax.plot(x, y, c='black')#, label='Degrees of freedom = %d' % df)\n",
    "ax.set_xlabel('$\\sigma_1^2$', fontsize=17)\n",
    "ax.set_ylabel('Power', fontsize=17)\n",
    "ax.set_title('Power of the Test', fontsize=17)\n",
    "ax.grid(False)\n",
    "\n",
    "plt.show()\n",
    "    \n",
    "    "
   ]
  },
  {
   "cell_type": "markdown",
   "metadata": {},
   "source": [
    "##### Part e\n",
    "\n",
    "Looking at the graph from $4d$, we can find the power for $\\sigma_1^2=500$. If we use python:"
   ]
  },
  {
   "cell_type": "code",
   "execution_count": 105,
   "metadata": {},
   "outputs": [
    {
     "name": "stdout",
     "output_type": "stream",
     "text": [
      "The Power at 𝜎2_1 = 500 is: 0.549\n",
      "Therefore, the probability of a Type II error is: 0.451\n"
     ]
    },
    {
     "data": {
      "image/png": "[encoded data removed]",
      "text/plain": [
       "<Figure size 864x504 with 1 Axes>"
      ]
     },
     "metadata": {},
     "output_type": "display_data"
    }
   ],
   "source": [
    "x_value = 500 #value of the variance\n",
    "y_value = [value[1] for value in values if value[0] == x_value][0] #corresponding value of the power\n",
    "\n",
    "print(\"The Power at 𝜎2_1 =\",x_value,\"is:\",round(y_value,3))\n",
    "print(\"Therefore, the probability of a Type II error is:\",round(1-y_value,3))\n",
    "\n",
    "#graph\n",
    "plt.style.use('seaborn-whitegrid')\n",
    "fig, ax = plt.subplots(figsize=(12, 7))\n",
    "\n",
    "plt.axvline(x=500, c='r')\n",
    "plt.hlines(y_value, 50, 1000, colors='r')\n",
    "\n",
    "ax.text(x_value-50, 0.7, '$\\sigma^2_1=%.0f$' %x_value, fontsize=14, bbox=dict(boxstyle='round', facecolor='white'))\n",
    "ax.text(800, y_value-0.02, 'Power$=%.3f$' %y_value, fontsize=14, bbox=dict(boxstyle='round', facecolor='white'))\n",
    "ax.plot(x, y, c='black')#, label='Degrees of freedom = %d' % df)\n",
    "ax.set_xlabel('$\\sigma_1^2$', fontsize=17)\n",
    "ax.set_ylabel('Power', fontsize=17)\n",
    "ax.set_title('Power of the Test', fontsize=17)\n",
    "ax.grid(False)\n",
    "\n",
    "plt.show()"
   ]
  },
  {
   "cell_type": "markdown",
   "metadata": {},
   "source": [
    "#### Question 10"
   ]
  },
  {
   "cell_type": "markdown",
   "metadata": {},
   "source": [
    "The data below represent one-way commuting times (in minutes) for a simple random sample of $15$\n",
    "people who work at a large assembly plant:\n",
    "\n",
    "$$21.7, 26.8, 33.1, 27.9, 23.5, 39.0, 28.0, 24.7, 28.4, 28.9, 30.0, 33.6, 33.3, 34.1, 35.1$$\n",
    "\n",
    "Assuming a normal distribution for the commuting times of those who work at the plant, a one sample upper-tail $t$-test (population mean exceeds $28$ minutes) at a $5\\%$ level was performed. Was the null hypothesis rejected or not? What was the final conclusion?"
   ]
  },
  {
   "cell_type": "markdown",
   "metadata": {},
   "source": [
    "#### Solution\n",
    "\n",
    "Firstly, the null hypothesis $H_0$ is: the population mean does not exceed $28$ minutes, and the alternative hypothesis $H_1$ is then: the population mean exceeds $28$ minutes.\n",
    "\n",
    "So:\n",
    "\n",
    "$${H_0}:  \\mu ≤ 28$$\n",
    "$${H_1}:  \\mu > 28$$\n",
    "\n",
    "With:\n",
    "\n",
    "$${\\alpha} = 0.05$$"
   ]
  },
  {
   "cell_type": "code",
   "execution_count": 106,
   "metadata": {},
   "outputs": [
    {
     "name": "stdout",
     "output_type": "stream",
     "text": [
      "29.87\n",
      "4.61\n"
     ]
    }
   ],
   "source": [
    "values = [21.7, 26.8, 33.1, 27.9, 23.5, 39.0, 28.0, 24.7, 28.4, 28.9, 30.0, 33.6, 33.3, 34.1, 35.1]\n",
    "mean = np.mean(values)\n",
    "std = np.std(values)\n",
    "alpha = 0.05\n",
    "mu = 28\n",
    "\n",
    "print(round(mean, 2))\n",
    "print(round(std, 2))"
   ]
  },
  {
   "cell_type": "markdown",
   "metadata": {},
   "source": [
    "##### Using Test Statistics:"
   ]
  },
  {
   "cell_type": "markdown",
   "metadata": {},
   "source": [
    "We will firstly look at the $t$-values respectively, to draw the conclusions from here:\n",
    "\n",
    "$${T}=\\frac{\\bar{x}-\\mu}{\\frac{s}{\\sqrt{n}}}$$\n"
   ]
  },
  {
   "cell_type": "code",
   "execution_count": 107,
   "metadata": {},
   "outputs": [
    {
     "name": "stdout",
     "output_type": "stream",
     "text": [
      "1.574\n"
     ]
    }
   ],
   "source": [
    "T = round(((mean-mu)*(15)**0.5)/(std),3) #T is for the experimental\n",
    "print(T)"
   ]
  },
  {
   "cell_type": "markdown",
   "metadata": {},
   "source": [
    "Now we will obtain the value $t$ from the $t$-table, with $n-1$ ($15-1$) degrees of freedom, for which the area to its right its $\\alpha$ (because is a one-sided tail):"
   ]
  },
  {
   "cell_type": "code",
   "execution_count": 108,
   "metadata": {},
   "outputs": [
    {
     "name": "stdout",
     "output_type": "stream",
     "text": [
      "1.761\n"
     ]
    }
   ],
   "source": [
    "T_th = round(t.ppf(1 - alpha, len(values)-1),3) #T_th is for the theoretical\n",
    "print(T_th)"
   ]
  },
  {
   "cell_type": "markdown",
   "metadata": {},
   "source": [
    "Now we can see if the value obtained is in the Acceptance Region or the Critical Region:"
   ]
  },
  {
   "cell_type": "code",
   "execution_count": 109,
   "metadata": {},
   "outputs": [
    {
     "name": "stdout",
     "output_type": "stream",
     "text": [
      "We fail to reject Ho at a 0.05 level of significance.\n"
     ]
    }
   ],
   "source": [
    "if T < T_th:\n",
    "    print(\"We fail to reject Ho at a\",alpha,\"level of significance.\")\n",
    "else:\n",
    "    print(\"We reject Ho.\")"
   ]
  },
  {
   "cell_type": "markdown",
   "metadata": {},
   "source": [
    "##### Conclusion:"
   ]
  },
  {
   "cell_type": "markdown",
   "metadata": {},
   "source": [
    "In conclusion, we can see that, with a level of significance of $0.05$, the value obtained in the sample for the population mean (taking into account that the sample mean is a population mean estimate) falls into the Acceptance Region, so we fail to Reject the null hypothesis, and then, as a conclusion, we continue to believe $H_0$:\n",
    "\n",
    "$$\\mu < 28$$\n",
    "\n",
    "To put it another way, about the mean for the commuting times, with the information we have, it cannot be said that, in average, they take any longer than $28$ minutes."
   ]
  },
  {
   "cell_type": "markdown",
   "metadata": {},
   "source": [
    "##### Using p-values:\n",
    "We can also compute the $p$-value to confirm these results."
   ]
  },
  {
   "cell_type": "code",
   "execution_count": 110,
   "metadata": {},
   "outputs": [
    {
     "name": "stdout",
     "output_type": "stream",
     "text": [
      "0.0689\n",
      "Indeed, by means of the p-value, we can confirm that we fail to reject Ho.\n"
     ]
    }
   ],
   "source": [
    "df = 15-1\n",
    "p_value=1-t.cdf(T,df)\n",
    "p_value = round(p_value, 4)\n",
    "print(p_value)\n",
    "if p_value > alpha:\n",
    "    print(\"Indeed, by means of the p-value, we can confirm that we fail to reject Ho.\")\n",
    "else:\n",
    "    print(\"We reject Ho.\")"
   ]
  },
  {
   "cell_type": "markdown",
   "metadata": {},
   "source": [
    "##### Using Confidence Intervals:"
   ]
  },
  {
   "cell_type": "markdown",
   "metadata": {},
   "source": [
    "We can also compute the Confidence Interval and recheck the result.\n",
    "Since we are asked for the mean with normal population of unknown variance:\n",
    "\n",
    "$$\\mbox{CI}_{1-\\alpha}(\\mu) = \\left(\\bar{x}-t_{\\alpha} \\frac{s}{\\sqrt{n}},+\\infty\\right)$$\n",
    "where $t\\sim t$-Student"
   ]
  },
  {
   "cell_type": "code",
   "execution_count": 111,
   "metadata": {},
   "outputs": [
    {
     "name": "stdout",
     "output_type": "stream",
     "text": [
      "(27.778, +∞)\n"
     ]
    }
   ],
   "source": [
    "lower = mean - T_th*std/(15**0.5)\n",
    "lower = round(lower, 3)\n",
    "upper = \"+∞\"\n",
    "\n",
    "CI = (lower, upper) #since we had an upper bound, we now need to compute the lower confidence interval:\n",
    "print(\"(\"+str(CI[0])+\", \"+str(CI[1])+\")\")"
   ]
  },
  {
   "cell_type": "code",
   "execution_count": 112,
   "metadata": {},
   "outputs": [
    {
     "name": "stdout",
     "output_type": "stream",
     "text": [
      "The population mean of 28 minutes falls into the Confidence Interval, so we fail to reject Ho.\n"
     ]
    }
   ],
   "source": [
    "mu = 28\n",
    "if mu >lower:\n",
    "    print(\"The population mean of\", mu,\"minutes falls into the Confidence Interval, so we fail to reject Ho.\")\n",
    "else:\n",
    "    print(\"The population mean of\", mu,\"minutes doesn´t fall into the Confidence Interval, so we reject Ho.\")"
   ]
  },
  {
   "cell_type": "markdown",
   "metadata": {},
   "source": [
    "#### Question 13"
   ]
  },
  {
   "cell_type": "markdown",
   "metadata": {},
   "source": [
    "A certain emergency automated response procedure to apply when manufacturing problems are\n",
    "detected in a production line has been shown to have undesirable consequences in certain low probability cases. You wish to determine if the procedure should be modified due to these consequences, as it in general has worked quite well in the past. You have selected a quality measurement\n",
    "as your reference for this decision. This quantity is assumed to follow a normal distribution with\n",
    "variance equal to $1$. The reference value was measured on a sample of $n = 25$ emergencies, and\n",
    "the sample mean was $15.4$. If the mean value for the process (in the absence of emergencies) is $15$,\n",
    "answer the following questions:"
   ]
  },
  {
   "cell_type": "markdown",
   "metadata": {},
   "source": [
    "a) Do we have sufficient evidence to conclude that this procedure increases the mean value of the\n",
    "indicator, at an $\\alpha = 0.05$ level?"
   ]
  },
  {
   "cell_type": "markdown",
   "metadata": {},
   "source": [
    "b) The sample quasi-standard deviation for the 25 observations was 1.2. Does this imply that\n",
    "the population variance has increased? Conduct this test for a significance level of 10%."
   ]
  },
  {
   "cell_type": "markdown",
   "metadata": {},
   "source": [
    "c) Would you reach the same conclusions for the preceding tests if they were conducted at a 1%\n",
    "significance level?"
   ]
  },
  {
   "cell_type": "markdown",
   "metadata": {},
   "source": [
    "#### Solution\n",
    "\n",
    "##### Part a\n",
    "Let $X$ represent the quality measurement. Since the population is normal, with variance known (of $1$) and the sample is large enough ($n=25$), we know that the mean of each the samples will follow a normal distribution with mean the one of the population ($15$) and standard deviation the one of the population over the squared root of the sample size:\n",
    "\n",
    "$${\\overline X} \\sim {N(\\mu, {\\sigma}/{\\sqrt{n}})}$$\n",
    "\n",
    "So we need to specify the hypothesis:\n",
    "\n",
    "$$Ho: \\mu \\leqslant \\mu_0 = 15$$\n",
    "$$H1: \\mu \\gt \\mu_0 = 15$$"
   ]
  },
  {
   "cell_type": "markdown",
   "metadata": {},
   "source": [
    "##### Using Test Statistics:\n",
    "\n",
    "We obtain the $z$ value from the experiment ($z$), and then compare it to the theoretical ($z_0$) one for alpha (because is an upper tail):\n",
    "\n",
    "$${Z}=\\frac{\\overline{x}-\\mu}{\\frac{\\sigma}{\\sqrt{n}}}$$"
   ]
  },
  {
   "cell_type": "code",
   "execution_count": 113,
   "metadata": {},
   "outputs": [
    {
     "name": "stdout",
     "output_type": "stream",
     "text": [
      "We have sufficient evidence to reject Ho.\n"
     ]
    }
   ],
   "source": [
    "#Firstly, we will standarize the test statistic (z):\n",
    "z = (15.4-15)/(1/(25**0.5))\n",
    "alpha = 0.05\n",
    "\n",
    "#we obtain the value of z0 with a significance level of 0.05 from the table, or, in this case, from python:\n",
    "z0 = norm.ppf(1 - alpha,0,1)\n",
    "\n",
    "#Now we simply compare, taking into account that if z > z0, then it will be in the Rejection Region:\n",
    "if z > z0:\n",
    "    print(\"We have sufficient evidence to reject Ho.\")\n",
    "else:\n",
    "    print(\"We fail to reject Ho with the evidence given.\")"
   ]
  },
  {
   "cell_type": "markdown",
   "metadata": {},
   "source": [
    "#### Using p-values:\n",
    "We can also compute the p-value, and then compare it with the one of the significance level."
   ]
  },
  {
   "cell_type": "code",
   "execution_count": 114,
   "metadata": {},
   "outputs": [
    {
     "name": "stdout",
     "output_type": "stream",
     "text": [
      "0.0228\n",
      "We reject Ho.\n"
     ]
    }
   ],
   "source": [
    "p_value = round(1-norm.cdf(z, 0, 1),4)\n",
    "\n",
    "print(p_value)\n",
    "if round(p_value, 4) >= alpha:\n",
    "    print(\"We fail to reject Ho.\")\n",
    "else:\n",
    "    print(\"We reject Ho.\")"
   ]
  },
  {
   "cell_type": "markdown",
   "metadata": {},
   "source": [
    "##### Using Confidence Intervals:\n",
    "Finally, we can compute the Confidence Interval, taking into account that this is an upper tail test."
   ]
  },
  {
   "cell_type": "markdown",
   "metadata": {},
   "source": [
    "$$\\mbox{CI}_{1-\\alpha}(\\mu) = \\left(\\bar{x}-z_{\\alpha} \\frac{\\sigma}{\\sqrt{n}},+\\infty\\right)$$\n",
    "where $z\\sim $N(0,1)"
   ]
  },
  {
   "cell_type": "code",
   "execution_count": 115,
   "metadata": {},
   "outputs": [
    {
     "name": "stdout",
     "output_type": "stream",
     "text": [
      "(15.071, +∞)\n"
     ]
    }
   ],
   "source": [
    "std = 1\n",
    "n = 25\n",
    "\n",
    "lower = 15.4 - z0*std/(n**0.5)\n",
    "lower = round(lower, 4)\n",
    "upper = \"+∞\"\n",
    "\n",
    "CI = (lower, upper)\n",
    "print(\"(\"+str(CI[0])+\", \"+str(CI[1])+\")\")"
   ]
  },
  {
   "cell_type": "code",
   "execution_count": 116,
   "metadata": {},
   "outputs": [
    {
     "name": "stdout",
     "output_type": "stream",
     "text": [
      "Indeed, we can see yet again that we reject Ho.\n"
     ]
    }
   ],
   "source": [
    "mu = 15\n",
    "if  mu > lower:\n",
    "    print(\"We fail to reject Ho.\")\n",
    "else:\n",
    "    print(\"Indeed, we can see yet again that we reject Ho.\")"
   ]
  },
  {
   "cell_type": "markdown",
   "metadata": {},
   "source": [
    "##### Part b\n",
    "Let´s define the hypothesis:\n",
    "\n",
    "$${Ho}:σ^2\\leqslant σ_0^2 = 1$$ \n",
    "$${H1}:σ^2\\gt σ_0^2 = 1$$"
   ]
  },
  {
   "cell_type": "markdown",
   "metadata": {},
   "source": [
    "##### Using Test Statistics:"
   ]
  },
  {
   "cell_type": "markdown",
   "metadata": {},
   "source": [
    "The test statistic is:\n",
    "$$\\frac{(n-1)s^2}{\\sigma_0^2} \\sim \\chi^2_{n-1}$$\n",
    "\n",
    "We will denote it by $x$, for simplicity."
   ]
  },
  {
   "cell_type": "code",
   "execution_count": 117,
   "metadata": {},
   "outputs": [
    {
     "name": "stdout",
     "output_type": "stream",
     "text": [
      "The test statistic is: 34.56\n",
      "The bound for RR𝛼 is: 33.1962\n"
     ]
    }
   ],
   "source": [
    "#so we compute the test statistic, that we will call x:\n",
    "s = 1.2\n",
    "s0 = 1\n",
    "alpha = 0.1\n",
    "n = 25\n",
    "df = 25-1\n",
    "x = (n-1)*(s**2)/(s0**2)\n",
    "print(\"The test statistic is:\",x)\n",
    "\n",
    "#we obtain its respective value from the chi-square distribution:\n",
    "x0 = chi2.ppf(1-alpha,df)\n",
    "print(\"The bound for RR𝛼 is:\",round(x0,4))"
   ]
  },
  {
   "cell_type": "code",
   "execution_count": 118,
   "metadata": {},
   "outputs": [
    {
     "name": "stdout",
     "output_type": "stream",
     "text": [
      "We reject Ho, since we have enough evidence that the variance has increased.\n"
     ]
    }
   ],
   "source": [
    "if x > x0:\n",
    "    print(\"We reject Ho, since we have enough evidence that the variance has increased.\")\n",
    "else:\n",
    "    print(\"We fail to reject Ho.\")"
   ]
  },
  {
   "cell_type": "markdown",
   "metadata": {},
   "source": [
    "##### Using p-values:\n",
    "If we look at the p-value:"
   ]
  },
  {
   "cell_type": "code",
   "execution_count": 119,
   "metadata": {},
   "outputs": [
    {
     "name": "stdout",
     "output_type": "stream",
     "text": [
      "0.0752\n"
     ]
    }
   ],
   "source": [
    "p_value = 1-chi2.cdf(x, df)\n",
    "p_value = round(p_value, 4)\n",
    "print(p_value)"
   ]
  },
  {
   "cell_type": "code",
   "execution_count": 120,
   "metadata": {},
   "outputs": [
    {
     "name": "stdout",
     "output_type": "stream",
     "text": [
      "We reject Ho.\n"
     ]
    }
   ],
   "source": [
    "if p_value < alpha:\n",
    "    print(\"We reject Ho.\")\n",
    "else:\n",
    "    print(\"We fail to reject Ho.\")"
   ]
  },
  {
   "cell_type": "markdown",
   "metadata": {},
   "source": [
    "##### Using Condifence Intervals\n",
    "We can also compute the Confidence Interval, taking into account that we are now dealing with a chi-square distribution of 24 degrees of freedom.\n",
    "\n",
    "$$\\mbox{CI}_{1-\\alpha}(\\sigma^2_X) = \\left(\\frac{(n-1)s_x^2}{\\chi^2_{n-1;\\alpha}},+\\infty\\right)$$"
   ]
  },
  {
   "cell_type": "code",
   "execution_count": 121,
   "metadata": {},
   "outputs": [
    {
     "name": "stdout",
     "output_type": "stream",
     "text": [
      "(1.0411, +∞)\n"
     ]
    }
   ],
   "source": [
    "lower = ((n-1)*s**2)/(chi2.ppf(1-alpha,df))\n",
    "lower = round(lower, 4)\n",
    "upper = \"+∞\"\n",
    "\n",
    "CI = (lower, upper)\n",
    "print(\"(\"+str(CI[0])+\", \"+str(CI[1])+\")\")"
   ]
  },
  {
   "cell_type": "code",
   "execution_count": 122,
   "metadata": {
    "scrolled": true
   },
   "outputs": [
    {
     "name": "stdout",
     "output_type": "stream",
     "text": [
      "We reject Ho.\n"
     ]
    }
   ],
   "source": [
    "if s0 > lower:\n",
    "    print(\"We fail to reject Ho.\")\n",
    "else:\n",
    "    print(\"We reject Ho.\")"
   ]
  },
  {
   "cell_type": "markdown",
   "metadata": {},
   "source": [
    "##### Part c\n",
    "We can just repeat the procedure for each part, only changing the significance level:"
   ]
  },
  {
   "cell_type": "markdown",
   "metadata": {},
   "source": [
    "##### a)\n",
    "\n",
    "##### Using Test Statistics:"
   ]
  },
  {
   "cell_type": "code",
   "execution_count": 123,
   "metadata": {},
   "outputs": [
    {
     "name": "stdout",
     "output_type": "stream",
     "text": [
      "We fail to reject Ho with the evidence given.\n"
     ]
    }
   ],
   "source": [
    "#Firstly, we will standarize the test statistic (z):\n",
    "z = (15.4-15)/(1/(25**0.5))\n",
    "alpha = 0.01\n",
    "\n",
    "#we obtain the value of z0 with a significance level of 0.05 from the table, or, in this case, from python:\n",
    "z0 = norm.ppf(1 - alpha,0,1)\n",
    "\n",
    "#Now we simply compare, taking into account that if z > z0, then it will be in the Rejection Region:\n",
    "if z > z0:\n",
    "    print(\"We have sufficient evidence to reject Ho.\")\n",
    "else:\n",
    "    print(\"We fail to reject Ho with the evidence given.\")"
   ]
  },
  {
   "cell_type": "markdown",
   "metadata": {},
   "source": [
    "##### Using p-values:\n",
    "We can also compute the p-value, and then compare it with the one of the significance level."
   ]
  },
  {
   "cell_type": "code",
   "execution_count": 124,
   "metadata": {},
   "outputs": [
    {
     "name": "stdout",
     "output_type": "stream",
     "text": [
      "0.0228\n",
      "We fail to reject Ho.\n"
     ]
    }
   ],
   "source": [
    "p_value = 1-norm.cdf(z, 0, 1)\n",
    "p_value = round(p_value, 4)\n",
    "\n",
    "print(p_value)\n",
    "if round(p_value, 4) >= alpha:\n",
    "    print(\"We fail to reject Ho.\")\n",
    "else:\n",
    "    print(\"We reject Ho.\")"
   ]
  },
  {
   "cell_type": "markdown",
   "metadata": {},
   "source": [
    "##### Using Confidence Intervals:\n",
    "Finally, we can compute the Confidence Interval, taking into account that this is an upper tail test."
   ]
  },
  {
   "cell_type": "markdown",
   "metadata": {},
   "source": [
    "$$\\mbox{CI}_{1-\\alpha}(\\mu) = \\left(\\bar{x}-z_{\\alpha} \\frac{\\sigma}{\\sqrt{n}},+\\infty\\right)$$\n",
    "where $z\\sim $N(0,1)"
   ]
  },
  {
   "cell_type": "code",
   "execution_count": 125,
   "metadata": {},
   "outputs": [
    {
     "name": "stdout",
     "output_type": "stream",
     "text": [
      "(14.935, +∞)\n"
     ]
    }
   ],
   "source": [
    "std = 1\n",
    "n = 25\n",
    "\n",
    "lower = 15.4 - z0*std/(n**0.5)\n",
    "lower = round(lower, 3)\n",
    "upper = \"+∞\"\n",
    "\n",
    "CI = (lower, upper)\n",
    "print(\"(\"+str(CI[0])+\", \"+str(CI[1])+\")\")"
   ]
  },
  {
   "cell_type": "code",
   "execution_count": 126,
   "metadata": {},
   "outputs": [
    {
     "name": "stdout",
     "output_type": "stream",
     "text": [
      "We fail to reject Ho.\n"
     ]
    }
   ],
   "source": [
    "mu = 15\n",
    "if  mu > lower:\n",
    "    print(\"We fail to reject Ho.\")\n",
    "else:\n",
    "    print(\"Indeed, we can see yet again that we reject Ho.\")"
   ]
  },
  {
   "cell_type": "markdown",
   "metadata": {},
   "source": [
    "##### b)"
   ]
  },
  {
   "cell_type": "markdown",
   "metadata": {},
   "source": [
    "Let´s define the hypothesis:\n",
    "\n",
    "$${Ho}:σ^2\\leqslant σ_0^2 = 1$$ \n",
    "$${H1}:σ^2\\gt σ_0^2 = 1$$"
   ]
  },
  {
   "cell_type": "markdown",
   "metadata": {},
   "source": [
    "##### Using Test Statistics:\n",
    "The test statistic is:\n",
    "$$\\frac{(n-1)s^2}{\\sigma_0^2} \\sim \\chi^2_{n-1}$$\n",
    "\n",
    "We will denote it by x, for simplicity."
   ]
  },
  {
   "cell_type": "code",
   "execution_count": 127,
   "metadata": {},
   "outputs": [
    {
     "name": "stdout",
     "output_type": "stream",
     "text": [
      "34.56\n",
      "42.9798\n"
     ]
    }
   ],
   "source": [
    "#so we compute the test statistic, that we will call x:\n",
    "s = 1.2\n",
    "s0 = 1\n",
    "alpha = 0.01\n",
    "n = 25\n",
    "df = 25-1\n",
    "x = (n-1)*(s**2)/(s0**2)\n",
    "print(x)\n",
    "\n",
    "#we obtain its respective value from the chi-square distribution:\n",
    "x0 = chi2.ppf(1-alpha,df)\n",
    "print(round(x0,4))"
   ]
  },
  {
   "cell_type": "code",
   "execution_count": 128,
   "metadata": {},
   "outputs": [
    {
     "name": "stdout",
     "output_type": "stream",
     "text": [
      "We fail to reject Ho.\n"
     ]
    }
   ],
   "source": [
    "if x > x0:\n",
    "    print(\"We reject Ho, since we have enough evidence that the variance has increased.\")\n",
    "else:\n",
    "    print(\"We fail to reject Ho.\")"
   ]
  },
  {
   "cell_type": "markdown",
   "metadata": {},
   "source": [
    "##### Using p-values:\n",
    "If we look at the p-value:"
   ]
  },
  {
   "cell_type": "code",
   "execution_count": 129,
   "metadata": {},
   "outputs": [
    {
     "name": "stdout",
     "output_type": "stream",
     "text": [
      "0.0752\n"
     ]
    }
   ],
   "source": [
    "p_value = round(1-chi2.cdf(x, df),4)\n",
    "print(p_value)"
   ]
  },
  {
   "cell_type": "code",
   "execution_count": 130,
   "metadata": {},
   "outputs": [
    {
     "name": "stdout",
     "output_type": "stream",
     "text": [
      "We fail to reject Ho.\n"
     ]
    }
   ],
   "source": [
    "if p_value < alpha:\n",
    "    print(\"We reject Ho.\")\n",
    "else:\n",
    "    print(\"We fail to reject Ho.\")"
   ]
  },
  {
   "cell_type": "markdown",
   "metadata": {},
   "source": [
    "##### Using Conidence Intervals:\n",
    "We can also compute the Confidence Interval, taking into account that we are now dealing with a chi-square distribution of 24 degrees of freedom.\n",
    "\n",
    "$$\\mbox{CI}_{1-\\alpha}(\\sigma^2_X) = \\left(\\frac{(n-1)s_x^2}{\\chi^2_{n-1;\\alpha}},+\\infty\\right)$$"
   ]
  },
  {
   "cell_type": "code",
   "execution_count": 131,
   "metadata": {},
   "outputs": [
    {
     "name": "stdout",
     "output_type": "stream",
     "text": [
      "(0.8041, +∞)\n"
     ]
    }
   ],
   "source": [
    "lower = ((n-1)*s**2)/(chi2.ppf(1-alpha,df))\n",
    "lower = round(lower, 4)\n",
    "upper = \"+∞\"\n",
    "\n",
    "CI = (lower, upper)\n",
    "print(\"(\"+str(CI[0])+\", \"+str(CI[1])+\")\")"
   ]
  },
  {
   "cell_type": "code",
   "execution_count": 132,
   "metadata": {
    "scrolled": true
   },
   "outputs": [
    {
     "name": "stdout",
     "output_type": "stream",
     "text": [
      "We fail to reject Ho.\n"
     ]
    }
   ],
   "source": [
    "if s0 > lower:\n",
    "    print(\"We fail to reject Ho.\")\n",
    "else:\n",
    "    print(\"We reject Ho.\")"
   ]
  }
 ],
 "metadata": {
  "kernelspec": {
   "display_name": "Python 3",
   "language": "python",
   "name": "python3"
  },
  "language_info": {
   "codemirror_mode": {
    "name": "ipython",
    "version": 3
   },
   "file_extension": ".py",
   "mimetype": "text/x-python",
   "name": "python",
   "nbconvert_exporter": "python",
   "pygments_lexer": "ipython3",
   "version": "3.8.5"
  }
 },
 "nbformat": 4,
 "nbformat_minor": 4
}
