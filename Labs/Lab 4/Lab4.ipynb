{
 "cells": [
  {
   "cell_type": "markdown",
   "metadata": {},
   "source": [
    "# Probability and Statistics\n",
    "## Computers Lab 4\n",
    "## Goodness of Fit Tests\n",
    "------\n"
   ]
  },
  {
   "cell_type": "markdown",
   "metadata": {
    "collapsed": true
   },
   "source": [
    "# Report\n",
    "\n",
    "In this lab we have learnt how to implement three different **Goodness of Fit** tests:\n",
    "\n",
    "- Chi-Squared Goodness of Fit Test\n",
    "- Chi-Squared Goodness of Fit for Independence\n",
    "- Kolmogorov-Smirnov Test\n",
    "\n",
    "The procedure for each test is the following:\n"
   ]
  },
  {
   "cell_type": "markdown",
   "metadata": {},
   "source": [
    "#### Chi-Squared Goodness of Fit Test\n",
    "\n",
    "1. From ```scipy.stats```, we can import the chi squared distribution (```chisquared```). Then, we have the function ```chisquare()``` available. With this function we can obtain test statistic and the p-value of the data\n",
    "    \n",
    "2. We group our observations into _bins_, and compare the resulting frequencies with the theoretical ones given by the _chi squared_ distribution. In order to group the data into _bins_, we can use ```numpy``` :\n",
    "    "
   ]
  },
  {
   "cell_type": "code",
   "execution_count": 28,
   "metadata": {},
   "outputs": [],
   "source": [
    "import numpy as np\n",
    "from scipy.stats import chisquare\n",
    "from sklearn import datasets #we import this to get some example data\n",
    "\n",
    "data_set = datasets.load_breast_cancer()\n",
    "y=data_set.data[:,0] #example data\n",
    "size = len(y)\n",
    "\n",
    "# Set up 50 bins for chi-square test\n",
    "# Observed data will be approximately evenly distrubuted across all bins\n",
    "percentile_bins = np.linspace(0,100,51) #creating the bins\n",
    "percentile_cutoffs = np.percentile(y, percentile_bins) #separating the data (y) into bins\n",
    "observed_frequency, bins = (np.histogram(y, bins=percentile_cutoffs))#get the frequency for each bin\n",
    "cum_observed_frequency = np.cumsum(observed_frequency) #cumulative sum of frequency"
   ]
  },
  {
   "cell_type": "markdown",
   "metadata": {},
   "source": [
    "3. Fit the data to a normal with the ```norm``` function from ```scipy.stats```:"
   ]
  },
  {
   "cell_type": "code",
   "execution_count": 29,
   "metadata": {},
   "outputs": [],
   "source": [
    "params= stats.norm.fit(y) # the mean and standard deviation will be stored in params"
   ]
  },
  {
   "cell_type": "markdown",
   "metadata": {},
   "source": [
    "4. Generate the expected frequencies. We can do this by getting the probability for each interval (with the cdf) and multiplying by the sample size. This can be done in python using a loop."
   ]
  },
  {
   "cell_type": "code",
   "execution_count": 30,
   "metadata": {},
   "outputs": [],
   "source": [
    "cdf_fitted = stats.norm.cdf(percentile_cutoffs,params[0], params[1])\n",
    "expected_frequency = []\n",
    "for bin in range(len(percentile_bins)-1):\n",
    "    expected_cdf_area = cdf_fitted[bin+1] - cdf_fitted[bin]\n",
    "    expected_frequency.append(expected_cdf_area)\n",
    "expected_frequency = np.array(expected_frequency) * size"
   ]
  },
  {
   "cell_type": "markdown",
   "metadata": {},
   "source": [
    "5. Perform the test using the ```chisquared()``` function, the observed frequency and the expected frequencies. See example below:"
   ]
  },
  {
   "cell_type": "code",
   "execution_count": 31,
   "metadata": {},
   "outputs": [
    {
     "name": "stdout",
     "output_type": "stream",
     "text": [
      "t-stat: 151.068\n",
      "p-value: 7.503154454169483e-13\n",
      "verif p-val: 7.502887200416808e-13\n",
      "Reject True\n"
     ]
    }
   ],
   "source": [
    "#chi-squared test\n",
    "t_stat,p_value= chisquare(observed_frequency, f_exp=expected_frequency, ddof=2) #ddof=2, we have estimated two parameters -> mean and sd fo for normal dist.\n",
    "print ('t-stat:', round(t_stat,3))\n",
    "print ('p-value:', p_value)\n",
    "#\n",
    "df=len(observed_frequency)-1-len(params)\n",
    "verif_p_val=1-stats.chi2.cdf(t_stat,df)\n",
    "print ('verif p-val:',verif_p_val)\n",
    "alpha=0.01\n",
    "critical_value=stats.chi2.ppf(1-alpha,df)\n",
    "Reject = (t_stat > stats.chi2.ppf(1-alpha,df))\n",
    "print ('Reject',Reject)"
   ]
  },
  {
   "cell_type": "markdown",
   "metadata": {},
   "source": [
    "#### Chi-Squared Goodness of Fit for Independence\n",
    "\n",
    "1. For this test we need to import ```chi2_contingency``` and ```chi2``` from ```scipy.stats```, and we also need ```pandas``` for dataframe management. \n",
    "\n",
    "2. Generate the contingency table as a ```pandas``` dataframe:\n"
   ]
  },
  {
   "cell_type": "code",
   "execution_count": 32,
   "metadata": {},
   "outputs": [
    {
     "data": {
      "text/html": [
       "<div>\n",
       "<style scoped>\n",
       "    .dataframe tbody tr th:only-of-type {\n",
       "        vertical-align: middle;\n",
       "    }\n",
       "\n",
       "    .dataframe tbody tr th {\n",
       "        vertical-align: top;\n",
       "    }\n",
       "\n",
       "    .dataframe thead th {\n",
       "        text-align: right;\n",
       "    }\n",
       "</style>\n",
       "<table border=\"1\" class=\"dataframe\">\n",
       "  <thead>\n",
       "    <tr style=\"text-align: right;\">\n",
       "      <th></th>\n",
       "      <th>Black</th>\n",
       "      <th>White</th>\n",
       "      <th>Red</th>\n",
       "      <th>Blue</th>\n",
       "    </tr>\n",
       "  </thead>\n",
       "  <tbody>\n",
       "    <tr>\n",
       "      <th>Male</th>\n",
       "      <td>48</td>\n",
       "      <td>22</td>\n",
       "      <td>33</td>\n",
       "      <td>47</td>\n",
       "    </tr>\n",
       "    <tr>\n",
       "      <th>Female</th>\n",
       "      <td>35</td>\n",
       "      <td>36</td>\n",
       "      <td>42</td>\n",
       "      <td>27</td>\n",
       "    </tr>\n",
       "  </tbody>\n",
       "</table>\n",
       "</div>"
      ],
      "text/plain": [
       "        Black  White  Red  Blue\n",
       "Male       48     22   33    47\n",
       "Female     35     36   42    27"
      ]
     },
     "execution_count": 32,
     "metadata": {},
     "output_type": "execute_result"
    }
   ],
   "source": [
    "from scipy.stats import chi2_contingency\n",
    "from scipy.stats import chi2\n",
    "import pandas as pd\n",
    "#Consider the contingency table:\n",
    "tshirts = pd.DataFrame(\n",
    "    [\n",
    "        [48,22,33,47],\n",
    "        [35,36,42,27]\n",
    "    ],\n",
    "    index=[\"Male\",\"Female\"],\n",
    "    columns=[\"Black\",\"White\",\"Red\",\"Blue\"])\n",
    "tshirts"
   ]
  },
  {
   "cell_type": "markdown",
   "metadata": {},
   "source": [
    "3. Perform the test using the ```chi2_contingency()``` function. This function returns _Q_, the _p-value_, the _degrees of freedom_ for the test and the _expected frequencies_."
   ]
  },
  {
   "cell_type": "code",
   "execution_count": 33,
   "metadata": {},
   "outputs": [
    {
     "name": "stdout",
     "output_type": "stream",
     "text": [
      "test_statistic= 11.56978992417547\n",
      "p_value= 0.00901202511379703\n",
      "degrees of freedom= 3\n"
     ]
    }
   ],
   "source": [
    "Q, p_value, dof, ex = chi2_contingency(tshirts)\n",
    "print('test_statistic=',Q)\n",
    "print('p_value=',p_value)\n",
    "print('degrees of freedom=',dof)"
   ]
  },
  {
   "cell_type": "markdown",
   "metadata": {},
   "source": [
    "4. We can end the test here, or can also print the expected frequencies by including them in another dataframe:"
   ]
  },
  {
   "cell_type": "code",
   "execution_count": 34,
   "metadata": {},
   "outputs": [
    {
     "name": "stdout",
     "output_type": "stream",
     "text": [
      "expected frequencies:\n"
     ]
    },
    {
     "data": {
      "text/html": [
       "<div>\n",
       "<style scoped>\n",
       "    .dataframe tbody tr th:only-of-type {\n",
       "        vertical-align: middle;\n",
       "    }\n",
       "\n",
       "    .dataframe tbody tr th {\n",
       "        vertical-align: top;\n",
       "    }\n",
       "\n",
       "    .dataframe thead th {\n",
       "        text-align: right;\n",
       "    }\n",
       "</style>\n",
       "<table border=\"1\" class=\"dataframe\">\n",
       "  <thead>\n",
       "    <tr style=\"text-align: right;\">\n",
       "      <th></th>\n",
       "      <th>Black</th>\n",
       "      <th>White</th>\n",
       "      <th>Red</th>\n",
       "      <th>Blue</th>\n",
       "    </tr>\n",
       "  </thead>\n",
       "  <tbody>\n",
       "    <tr>\n",
       "      <th>Male</th>\n",
       "      <td>42.93</td>\n",
       "      <td>30.0</td>\n",
       "      <td>38.79</td>\n",
       "      <td>38.28</td>\n",
       "    </tr>\n",
       "    <tr>\n",
       "      <th>Female</th>\n",
       "      <td>40.07</td>\n",
       "      <td>28.0</td>\n",
       "      <td>36.21</td>\n",
       "      <td>35.72</td>\n",
       "    </tr>\n",
       "  </tbody>\n",
       "</table>\n",
       "</div>"
      ],
      "text/plain": [
       "        Black  White    Red   Blue\n",
       "Male    42.93   30.0  38.79  38.28\n",
       "Female  40.07   28.0  36.21  35.72"
      ]
     },
     "execution_count": 34,
     "metadata": {},
     "output_type": "execute_result"
    }
   ],
   "source": [
    "print('expected frequencies:')\n",
    "pd.DataFrame(\n",
    "    data=ex[:,:], \n",
    "    index=[\"Male\",\"Female\"],\n",
    "    columns=[\"Black\",\"White\",\"Red\",\"Blue\"]\n",
    ").round(2)"
   ]
  },
  {
   "cell_type": "markdown",
   "metadata": {},
   "source": [
    "#### Kolmogorov-Smirnov Test\n",
    "\n",
    "We can run this test simply with ```stats``` from ```scipy```. First, we generate the data and store it in a variable. Then, we can use the function ```stats.kstest()``` to test if the data fits to a normal distribution (or another of the available distributions). An example is shown below:\n",
    "\n",
    "1. Generate the data:"
   ]
  },
  {
   "cell_type": "code",
   "execution_count": 35,
   "metadata": {},
   "outputs": [],
   "source": [
    "from scipy import stats\n",
    "x = np.linspace(-15, 15, 9)"
   ]
  },
  {
   "cell_type": "markdown",
   "metadata": {},
   "source": [
    "2. Run the test:"
   ]
  },
  {
   "cell_type": "code",
   "execution_count": 36,
   "metadata": {},
   "outputs": [
    {
     "name": "stdout",
     "output_type": "stream",
     "text": [
      "D statistic = 0.4443560271592436\n",
      "p-value= 0.03885014008678811\n"
     ]
    }
   ],
   "source": [
    "D, p_value = stats.kstest(x, 'norm')\n",
    "print('D statistic =',D)\n",
    "print('p-value=',p_value)"
   ]
  },
  {
   "cell_type": "markdown",
   "metadata": {},
   "source": [
    "We can also test against other distributions by changing `'norm'` to the name of the distribution to be tested. Some distributions available in `scipy.stats` are: `'beta'`, `'expon'`, `'gamma'`, `'lognorm'`, `'norm'`, `'pearson3'`, `'triang'`, `'uniform'`, `'weibull_min'`, `'weibull_max'`."
   ]
  }
 ],
 "metadata": {
  "kernelspec": {
   "display_name": "Python 3",
   "language": "python",
   "name": "python3"
  },
  "language_info": {
   "codemirror_mode": {
    "name": "ipython",
    "version": 3
   },
   "file_extension": ".py",
   "mimetype": "text/x-python",
   "name": "python",
   "nbconvert_exporter": "python",
   "pygments_lexer": "ipython3",
   "version": "3.8.5"
  }
 },
 "nbformat": 4,
 "nbformat_minor": 4
}
